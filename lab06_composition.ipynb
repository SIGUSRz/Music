{
 "cells": [
  {
   "cell_type": "code",
   "execution_count": 1,
   "metadata": {
    "collapsed": true
   },
   "outputs": [],
   "source": [
    "# To begin using librosa we need to import it, and other tools such as matplotlib and numpy\n",
    "from pylab import *\n",
    "import librosa             # The librosa library\n",
    "import librosa.display     # librosa's display module (for plotting features)\n",
    "import IPython.display     # IPython's display module (for in-line audio)\n",
    "import matplotlib.pyplot as plt # matplotlib plotting functions\n",
    "import matplotlib.style as ms   # plotting style\n",
    "import numpy as np              # numpy numerical functions\n",
    "import pretty_midi as midi\n",
    "\n",
    "ms.use('seaborn-muted')         # fancy plot designs"
   ]
  },
  {
   "cell_type": "code",
   "execution_count": 2,
   "metadata": {
    "collapsed": true
   },
   "outputs": [],
   "source": [
    "# Project from "
   ]
  },
  {
   "cell_type": "code",
   "execution_count": 3,
   "metadata": {
    "collapsed": true
   },
   "outputs": [],
   "source": [
    "N = ['C', 'D', 'E', 'F', 'G', 'A', 'B']"
   ]
  },
  {
   "cell_type": "code",
   "execution_count": 4,
   "metadata": {
    "scrolled": false
   },
   "outputs": [],
   "source": [
    "def get_note(start_note, oc):\n",
    "    pitch = []\n",
    "    pt = N.index(start_note)\n",
    "    note = N[pt] + str(oc)\n",
    "    while True:\n",
    "        pitch.append(midi.note_name_to_number(note))\n",
    "        pt = (pt + 1) % len(N)\n",
    "        if (pt == 0):\n",
    "            oc += 1\n",
    "        if oc == 8:\n",
    "            break\n",
    "        note = N[pt] + str(oc)\n",
    "    return pitch\n",
    "\n",
    "def generate(fir_len, start_note, sec_len, octave, loop_len, velocity, sp):\n",
    "    pm = midi.PrettyMIDI(initial_tempo=220)\n",
    "    # Create an Instrument instance for a cello instrument\n",
    "    inst_name = midi.instrument_name_to_program('Bright Acoustic Piano')\n",
    "    inst = midi.Instrument(program=inst_name)\n",
    "    \n",
    "    notes = []\n",
    "    ends = []\n",
    "    starts = []\n",
    "    t = 0.0\n",
    "    if fir_len > 8:\n",
    "        fir_len = fir_len * 2\n",
    "        sec_len = sec_len * 2\n",
    "    length = fir_len\n",
    "    mapping_start = []\n",
    "    mapping_end = []\n",
    "    pitch = get_note(start_note, octave)\n",
    "    l = 0\n",
    "    while True:\n",
    "        loop_start = []\n",
    "        loop_end = []\n",
    "        while t < loop_len:\n",
    "            loop_start.append(t)\n",
    "            t += length\n",
    "            loop_end.append(t)\n",
    "            flag = False\n",
    "            c = t % (loop_len)\n",
    "            for i in mapping_start:\n",
    "                flag = c in i\n",
    "                if flag:\n",
    "                    break\n",
    "            if flag or (c in loop_start):\n",
    "                length = fir_len if length == sec_len else sec_len\n",
    "        t = t % (loop_len)\n",
    "        mapping_start.append(loop_start)\n",
    "        mapping_end.append(loop_end)\n",
    "        l += len(loop_start)\n",
    "        if l > len(pitch):\n",
    "            if l - len(pitch) == len(mapping_start[-1]):\n",
    "                mapping_start = mapping_start[:-1]\n",
    "                mappint_end = mapping_end[:-1]\n",
    "            else:\n",
    "                mapping_start[-1] = [mapping_start[-1][i] for i in range(l - len(pitch) - 1)]\n",
    "                mapping_end[-1] = [mapping_end[-1][i] for i in range(l - len(pitch) - 1)]\n",
    "            break\n",
    "    print(mapping_start)\n",
    "    print(mapping_end)\n",
    "    k = 0\n",
    "    count = 0\n",
    "    while k < len(mapping_start):\n",
    "        pointer = 0\n",
    "        count = k\n",
    "        for i in range(k + 1):\n",
    "            j = 0\n",
    "            for j in range(len(mapping_start[i])):\n",
    "                notes.append(pitch[j + pointer])\n",
    "                starts.append((mapping_start[i][j] + count * loop_len) * sp)\n",
    "                ends.append((mapping_end[i][j] + count * loop_len) * sp)\n",
    "            pointer += len(mapping_start[i])\n",
    "        k += 1\n",
    "    k -= 1\n",
    "    for pitching, start, end in zip(notes, starts, ends):\n",
    "        inst.notes.append(midi.Note(velocity, pitching, start, end))\n",
    "    pm.instruments.append(inst)\n",
    "    pm.write('music.mid')\n",
    "    plt.xlim([7000, 8000])\n",
    "    imshow(inst.get_piano_roll())\n",
    "    plt.show()"
   ]
  },
  {
   "cell_type": "code",
   "execution_count": 5,
   "metadata": {
    "scrolled": false
   },
   "outputs": [
    {
     "name": "stdout",
     "output_type": "stream",
     "text": [
      "[[0.0, 18.0], [4.0, 22.0], [8.0, 26.0], [12.0, 30.0], [16.0], [2.0, 20.0], [6.0, 24.0], [10.0, 28.0], [14.0], [0.0, 29.0], [26.0], [12.0], [9.0], [6.0, 24.0], [21.0], [18.0], [4.0], [1.0, 30.0], [16.0], [13.0], [10.0, 28.0], [25.0], [22.0], [8.0], [5.0], [2.0, 20.0], [17.0], [14.0], [0.0, 29.0]]\n",
      "[[18.0, 36.0], [22.0, 40.0], [26.0, 44.0], [30.0, 48.0], [34.0], [20.0, 38.0], [24.0, 42.0], [28.0, 46.0], [32.0], [29.0, 58.0], [44.0], [41.0], [38.0], [24.0, 53.0], [50.0], [36.0], [33.0], [30.0, 48.0], [45.0], [42.0], [28.0, 57.0], [54.0], [40.0], [37.0], [34.0], [20.0, 49.0], [46.0], [32.0], [29.0, 47.0], [33.0]]\n"
     ]
    },
    {
     "data": {
      "image/png": "[encoded data removed]",
      "text/plain": [
       "<matplotlib.figure.Figure at 0x107f2c7f0>"
      ]
     },
     "metadata": {},
     "output_type": "display_data"
    },
    {
     "name": "stdout",
     "output_type": "stream",
     "text": [
      "finish\n"
     ]
    }
   ],
   "source": [
    "# 4E3 loop 16\n",
    "# 10G3.5 loop 32\n",
    "# 9C14.5 loop 32\n",
    "generate(fir_len=9, start_note='C', sec_len=14.5, octave=2, loop_len=32, velocity=100, sp=0.18)\n",
    "print(\"finish\")\n"
   ]
  },
  {
   "cell_type": "code",
   "execution_count": null,
   "metadata": {
    "collapsed": true
   },
   "outputs": [],
   "source": []
  }
 ],
 "metadata": {
  "kernelspec": {
   "display_name": "Python 3",
   "language": "python",
   "name": "python3"
  },
  "language_info": {
   "codemirror_mode": {
    "name": "ipython",
    "version": 3
   },
   "file_extension": ".py",
   "mimetype": "text/x-python",
   "name": "python",
   "nbconvert_exporter": "python",
   "pygments_lexer": "ipython3",
   "version": "3.6.2"
  }
 },
 "nbformat": 4,
 "nbformat_minor": 2
}
