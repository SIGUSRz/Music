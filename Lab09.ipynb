{
 "cells": [
  {
   "cell_type": "markdown",
   "metadata": {},
   "source": [
    "<h1>Intro to Computer Music, Lab09</h1>\n",
    "<h2>Gus Xia, NYU Shanghai</h2>"
   ]
  },
  {
   "cell_type": "markdown",
   "metadata": {},
   "source": [
    "In this lab you will:\n",
    "\n",
    "1. Extract MIDI melody according to Metadata\n",
    "2. Validate the melody via content-based approach"
   ]
  },
  {
   "cell_type": "markdown",
   "metadata": {},
   "source": [
    "<h2> Load packages </h2>"
   ]
  },
  {
   "cell_type": "code",
   "execution_count": 1,
   "metadata": {},
   "outputs": [],
   "source": [
    "# To begin using librosa we need to import it, and other tools such as matplotlib and numpy\n",
    "import os\n",
    "import copy as cp\n",
    "from pylab import *\n",
    "import pretty_midi\n",
    "import librosa             # The librosa library\n",
    "import librosa.display     # librosa's display module (for plotting features)\n",
    "import IPython.display     # IPython's display module (for in-line audio)\n",
    "import matplotlib.pyplot as plt # matplotlib plotting functions\n",
    "import matplotlib.style as ms   # plotting style\n",
    "import numpy as np              # numpy numerical functions\n",
    "ms.use('seaborn-muted')         # fancy plot designs\n",
    "from __future__ import print_function # use the print() function from Python3\n",
    "def show_score(S, fs = 100):\n",
    "    imshow(S, aspect='auto', origin='bottom', interpolation='nearest', cmap=cm.gray_r)\n",
    "    xlabel('Time')\n",
    "    ylabel('Pitch')\n",
    "    pc=array(['C','C#','D','Eb','E','F','F#','G','Ab','A','Bb','B'])\n",
    "    idx = tile([0,4,7],13)[:128]\n",
    "    #yticks(arange(0,128,4),pc[idx], fontsize=5)\n",
    "    #xticks(arange(0,S.shape[1],fs),arange(0,S.shape[1],fs)/fs, )     \n",
    "def matrix2notes(m):\n",
    "    # first sort the matrix to make sure starting time is in order\n",
    "    m = array(m)\n",
    "    m = m[argsort(m[:,0]),:]\n",
    "    # transfer the databack to note list\n",
    "    notes=[pretty_midi.Note(start=m[i,0], end=m[i,1], pitch=int(m[i,2]), velocity= int(m[i,3]) ) \n",
    "                            for i in range(size(m,0))]\n",
    "    return notes"
   ]
  },
  {
   "cell_type": "markdown",
   "metadata": {},
   "source": [
    "<h2> Inspect data </h2>"
   ]
  },
  {
   "cell_type": "code",
   "execution_count": 2,
   "metadata": {
    "scrolled": true
   },
   "outputs": [
    {
     "name": "stdout",
     "output_type": "stream",
     "text": [
      "[   0.      1.04    2.82    4.6     6.37    8.15    9.93   11.71   13.49\n",
      "   15.26   17.04   18.82   20.6    22.38   24.15   25.93   27.71   29.49\n",
      "   31.26   33.04   34.82   36.6    38.37   40.15   41.93   43.71   45.49\n",
      "   47.27   49.04   50.82   52.6    54.37   56.15   57.93   59.71   61.48\n",
      "   63.26   65.04   66.82   68.6    70.37   72.15   73.93   75.71   77.48\n",
      "   79.26   81.04   82.82   84.6    86.37   88.15   89.93   91.71   93.48\n",
      "   95.26   97.04   98.82  100.6   102.37  104.15  105.93  107.71  109.48\n",
      "  111.26  113.04  114.82  116.6   118.37  120.15  121.93  123.71  125.48\n",
      "  127.26  129.04  130.82  132.6   134.37  136.15  137.93  139.71  141.48\n",
      "  143.26  145.04  146.82  148.6   150.37  152.15  153.93  155.71  157.48\n",
      "  159.26  161.04  162.82  164.6   166.37  168.15  169.93  171.71  173.48\n",
      "  175.26  177.04  178.82  180.6   182.37  184.15  185.93  187.71  189.48\n",
      "  191.26  193.04  194.82  196.59  198.37  200.15  201.93  203.71]\n"
     ]
    },
    {
     "data": {
      "text/plain": [
       "[Instrument(program=0, is_drum=False, name=\"A.P/KIRA\"),\n",
       " Instrument(program=97, is_drum=False, name=\"A.P/KIRA\"),\n",
       " Instrument(program=39, is_drum=False, name=\"BASS\"),\n",
       " Instrument(program=55, is_drum=False, name=\"O.HIT\"),\n",
       " Instrument(program=73, is_drum=False, name=\"MELODY\"),\n",
       " Instrument(program=79, is_drum=False, name=\"SQ-R\"),\n",
       " Instrument(program=80, is_drum=False, name=\"SQ-R\"),\n",
       " Instrument(program=80, is_drum=False, name=\"SYN./E.P\"),\n",
       " Instrument(program=4, is_drum=False, name=\"SYN./E.P\"),\n",
       " Instrument(program=108, is_drum=False, name=\"SQ-L\"),\n",
       " Instrument(program=48, is_drum=False, name=\"ST-1\"),\n",
       " Instrument(program=18, is_drum=False, name=\"ORGAN\"),\n",
       " Instrument(program=0, is_drum=True, name=\"DRUMS\"),\n",
       " Instrument(program=25, is_drum=False, name=\"A.G/E.G-SOLO\"),\n",
       " Instrument(program=29, is_drum=False, name=\"A.G/E.G-SOLO\"),\n",
       " Instrument(program=25, is_drum=False, name=\"A.G/C.G\"),\n",
       " Instrument(program=27, is_drum=False, name=\"A.G/C.G\"),\n",
       " Instrument(program=30, is_drum=False, name=\"A.G/C.G\"),\n",
       " Instrument(program=30, is_drum=False, name=\"D.G\"),\n",
       " Instrument(program=48, is_drum=False, name=\"ST-2\"),\n",
       " Instrument(program=6, is_drum=False, name=\"HARPSI/ACCORDION\"),\n",
       " Instrument(program=21, is_drum=False, name=\"HARPSI/ACCORDION\"),\n",
       " Instrument(program=49, is_drum=False, name=\"ST-3/PAD\"),\n",
       " Instrument(program=89, is_drum=False, name=\"ST-3/PAD\")]"
      ]
     },
     "metadata": {},
     "output_type": "display_data"
    },
    {
     "data": {
      "text/plain": [
       "'after selection by Metadata:'"
      ]
     },
     "metadata": {},
     "output_type": "display_data"
    },
    {
     "data": {
      "text/plain": [
       "[Instrument(program=73, is_drum=False, name=\"MELODY\")]"
      ]
     },
     "metadata": {},
     "output_type": "display_data"
    },
    {
     "data": {
      "text/plain": [
       "'notes are:'"
      ]
     },
     "metadata": {},
     "output_type": "display_data"
    },
    {
     "data": {
      "text/plain": [
       "[Note(start=11.260000, end=11.468125, pitch=75, velocity=100),\n",
       " Note(start=11.486875, end=11.695937, pitch=78, velocity=100),\n",
       " Note(start=11.714583, end=11.913500, pitch=80, velocity=100),\n",
       " Note(start=11.931833, end=12.130750, pitch=83, velocity=100),\n",
       " Note(start=12.149083, end=12.357187, pitch=82, velocity=100),\n",
       " Note(start=12.375937, end=12.470625, pitch=78, velocity=100),\n",
       " Note(start=12.489375, end=12.693500, pitch=80, velocity=100),\n",
       " Note(start=13.038167, end=13.246250, pitch=75, velocity=100),\n",
       " Note(start=13.265000, end=13.473125, pitch=78, velocity=100),\n",
       " Note(start=13.491833, end=13.691667, pitch=80, velocity=100),\n",
       " Note(start=13.709083, end=13.908917, pitch=83, velocity=100),\n",
       " Note(start=13.926333, end=14.135312, pitch=82, velocity=100),\n",
       " Note(start=14.154062, end=14.248750, pitch=78, velocity=100),\n",
       " Note(start=14.267500, end=14.471667, pitch=80, velocity=100),\n",
       " Note(start=14.815417, end=15.018917, pitch=87, velocity=100),\n",
       " Note(start=15.038167, end=15.241667, pitch=87, velocity=100),\n",
       " Note(start=15.931833, end=16.149083, pitch=87, velocity=100),\n",
       " Note(start=16.149083, end=16.357187, pitch=87, velocity=100),\n",
       " Note(start=16.375937, end=16.489375, pitch=85, velocity=100),\n",
       " Note(start=16.489375, end=16.820917, pitch=83, velocity=100),\n",
       " Note(start=16.820917, end=17.019833, pitch=82, velocity=100),\n",
       " Note(start=17.038167, end=17.246250, pitch=79, velocity=100),\n",
       " Note(start=17.265000, end=17.473125, pitch=75, velocity=100),\n",
       " Note(start=17.491833, end=17.818167, pitch=87, velocity=100),\n",
       " Note(start=17.818167, end=18.241667, pitch=85, velocity=100),\n",
       " Note(start=18.370937, end=18.574375, pitch=75, velocity=100),\n",
       " Note(start=18.593125, end=18.796562, pitch=78, velocity=100),\n",
       " Note(start=18.815312, end=19.018917, pitch=80, velocity=100),\n",
       " Note(start=19.038167, end=19.241667, pitch=83, velocity=100),\n",
       " Note(start=19.260000, end=19.468125, pitch=82, velocity=100),\n",
       " Note(start=19.486875, end=19.581562, pitch=78, velocity=100),\n",
       " Note(start=19.601250, end=19.804417, pitch=80, velocity=100),\n",
       " Note(start=20.149083, end=20.357187, pitch=75, velocity=100),\n",
       " Note(start=20.375937, end=20.584062, pitch=78, velocity=100),\n",
       " Note(start=20.603667, end=20.802583, pitch=80, velocity=100),\n",
       " Note(start=20.820917, end=21.019833, pitch=83, velocity=100),\n",
       " Note(start=21.038167, end=21.246250, pitch=82, velocity=100),\n",
       " Note(start=21.265000, end=21.359687, pitch=78, velocity=100),\n",
       " Note(start=21.378437, end=21.582583, pitch=80, velocity=100),\n",
       " Note(start=21.926333, end=22.135312, pitch=87, velocity=100),\n",
       " Note(start=22.154062, end=22.562417, pitch=87, velocity=100),\n",
       " Note(start=22.598167, end=22.797083, pitch=85, velocity=100),\n",
       " Note(start=22.815417, end=23.018917, pitch=83, velocity=100),\n",
       " Note(start=23.038167, end=23.130750, pitch=82, velocity=100),\n",
       " Note(start=23.149083, end=23.468125, pitch=79, velocity=100),\n",
       " Note(start=23.486875, end=23.695937, pitch=75, velocity=100),\n",
       " Note(start=23.714583, end=23.913500, pitch=82, velocity=100),\n",
       " Note(start=23.931833, end=24.130750, pitch=83, velocity=100),\n",
       " Note(start=24.149083, end=24.470625, pitch=82, velocity=100),\n",
       " Note(start=24.489375, end=25.340937, pitch=80, velocity=100),\n",
       " Note(start=38.593125, end=38.685938, pitch=82, velocity=127),\n",
       " Note(start=38.704688, end=38.796563, pitch=82, velocity=127),\n",
       " Note(start=38.815313, end=38.908000, pitch=82, velocity=127),\n",
       " Note(start=38.926333, end=39.130750, pitch=82, velocity=127),\n",
       " Note(start=39.149083, end=39.241667, pitch=82, velocity=127),\n",
       " Note(start=39.260000, end=39.354688, pitch=82, velocity=127),\n",
       " Note(start=39.373438, end=39.468125, pitch=82, velocity=127),\n",
       " Note(start=39.486875, end=39.581563, pitch=82, velocity=127),\n",
       " Note(start=39.601250, end=39.695938, pitch=82, velocity=127),\n",
       " Note(start=39.714583, end=39.804417, pitch=82, velocity=127),\n",
       " Note(start=39.822750, end=39.931833, pitch=82, velocity=127),\n",
       " Note(start=39.931833, end=40.040000, pitch=82, velocity=127),\n",
       " Note(start=40.040000, end=40.130750, pitch=79, velocity=127),\n",
       " Note(start=40.149083, end=40.319688, pitch=82, velocity=127),\n",
       " Note(start=40.375938, end=40.546563, pitch=82, velocity=127),\n",
       " Note(start=40.603667, end=40.693500, pitch=82, velocity=127),\n",
       " Note(start=40.711833, end=40.910750, pitch=84, velocity=127),\n",
       " Note(start=40.929083, end=41.130750, pitch=79, velocity=127),\n",
       " Note(start=42.038167, end=42.260000, pitch=82, velocity=127),\n",
       " Note(start=42.260000, end=42.352583, pitch=82, velocity=127),\n",
       " Note(start=42.370938, end=42.574375, pitch=82, velocity=127),\n",
       " Note(start=42.593125, end=42.685938, pitch=82, velocity=127),\n",
       " Note(start=42.704688, end=42.796563, pitch=82, velocity=127),\n",
       " Note(start=42.815313, end=42.908000, pitch=82, velocity=127),\n",
       " Note(start=42.926333, end=43.018917, pitch=82, velocity=127),\n",
       " Note(start=43.038167, end=43.130750, pitch=82, velocity=127),\n",
       " Note(start=43.149083, end=43.373438, pitch=82, velocity=127),\n",
       " Note(start=43.373438, end=43.486875, pitch=79, velocity=127),\n",
       " Note(start=43.486875, end=43.581563, pitch=79, velocity=127),\n",
       " Note(start=43.601250, end=43.695938, pitch=79, velocity=127),\n",
       " Note(start=43.714583, end=43.913500, pitch=77, velocity=127),\n",
       " Note(start=43.931833, end=44.130750, pitch=75, velocity=127),\n",
       " Note(start=44.149083, end=44.243750, pitch=77, velocity=127),\n",
       " Note(start=44.262500, end=44.470625, pitch=79, velocity=127),\n",
       " Note(start=44.489375, end=44.693500, pitch=75, velocity=127),\n",
       " Note(start=45.709083, end=45.799833, pitch=82, velocity=127),\n",
       " Note(start=45.818167, end=45.908917, pitch=82, velocity=127),\n",
       " Note(start=45.926333, end=46.018917, pitch=82, velocity=127),\n",
       " Note(start=46.038167, end=46.130750, pitch=82, velocity=127),\n",
       " Note(start=46.149083, end=46.260000, pitch=82, velocity=127),\n",
       " Note(start=46.260000, end=46.482500, pitch=82, velocity=127),\n",
       " Note(start=46.482500, end=46.704688, pitch=82, velocity=127),\n",
       " Note(start=46.704688, end=46.928750, pitch=82, velocity=127),\n",
       " Note(start=46.928750, end=47.023438, pitch=82, velocity=127),\n",
       " Note(start=47.043125, end=47.137813, pitch=82, velocity=127),\n",
       " Note(start=47.156563, end=47.270000, pitch=82, velocity=127),\n",
       " Note(start=47.270000, end=47.491833, pitch=82, velocity=127),\n",
       " Note(start=47.491833, end=47.696250, pitch=79, velocity=127),\n",
       " Note(start=47.714583, end=47.804417, pitch=82, velocity=127),\n",
       " Note(start=47.822750, end=48.021667, pitch=84, velocity=127),\n",
       " Note(start=48.040000, end=48.243750, pitch=84, velocity=127),\n",
       " Note(start=48.375938, end=48.603667, pitch=82, velocity=127),\n",
       " Note(start=48.603667, end=48.820917, pitch=82, velocity=127),\n",
       " Note(start=48.820917, end=49.038167, pitch=84, velocity=127),\n",
       " Note(start=49.038167, end=49.370917, pitch=87, velocity=127),\n",
       " Note(start=49.370917, end=49.704063, pitch=86, velocity=127),\n",
       " Note(start=49.704063, end=49.926250, pitch=84, velocity=127),\n",
       " Note(start=49.926250, end=50.149083, pitch=82, velocity=127),\n",
       " Note(start=50.149083, end=50.370938, pitch=79, velocity=127),\n",
       " Note(start=50.370938, end=50.593125, pitch=86, velocity=127),\n",
       " Note(start=50.593125, end=51.038167, pitch=86, velocity=127),\n",
       " Note(start=51.038167, end=51.931833, pitch=84, velocity=127),\n",
       " Note(start=52.820917, end=53.038167, pitch=80, velocity=127),\n",
       " Note(start=53.038167, end=53.265000, pitch=80, velocity=127),\n",
       " Note(start=53.265000, end=53.491833, pitch=80, velocity=127),\n",
       " Note(start=53.491833, end=53.709083, pitch=80, velocity=127),\n",
       " Note(start=53.709083, end=53.926333, pitch=82, velocity=127),\n",
       " Note(start=53.926333, end=54.149083, pitch=84, velocity=127),\n",
       " Note(start=54.149083, end=54.593125, pitch=82, velocity=127),\n",
       " Note(start=54.593125, end=54.815313, pitch=79, velocity=127),\n",
       " Note(start=54.815313, end=55.038167, pitch=77, velocity=127),\n",
       " Note(start=55.038167, end=55.486875, pitch=75, velocity=127),\n",
       " Note(start=55.486875, end=55.714583, pitch=75, velocity=127),\n",
       " Note(start=55.714583, end=55.931833, pitch=77, velocity=127),\n",
       " Note(start=55.931833, end=56.375938, pitch=79, velocity=127),\n",
       " Note(start=56.375938, end=56.602750, pitch=78, velocity=127),\n",
       " Note(start=56.602750, end=56.820917, pitch=79, velocity=127),\n",
       " Note(start=56.820917, end=56.929083, pitch=78, velocity=127),\n",
       " Note(start=56.929083, end=57.260000, pitch=79, velocity=127),\n",
       " Note(start=57.260000, end=57.481875, pitch=83, velocity=127),\n",
       " Note(start=57.481875, end=57.704063, pitch=86, velocity=127),\n",
       " Note(start=57.704063, end=57.815625, pitch=89, velocity=127),\n",
       " Note(start=57.815625, end=58.260000, pitch=87, velocity=127),\n",
       " Note(start=58.593125, end=58.815313, pitch=87, velocity=127),\n",
       " Note(start=58.815313, end=59.038167, pitch=87, velocity=127),\n",
       " Note(start=59.038167, end=59.260000, pitch=87, velocity=127),\n",
       " Note(start=59.260000, end=59.486875, pitch=89, velocity=127),\n",
       " Note(start=59.486875, end=59.714583, pitch=87, velocity=127),\n",
       " Note(start=59.714583, end=60.149083, pitch=91, velocity=127),\n",
       " Note(start=60.375938, end=60.489375, pitch=91, velocity=127),\n",
       " Note(start=60.489375, end=60.602750, pitch=91, velocity=127),\n",
       " Note(start=60.602750, end=60.820917, pitch=91, velocity=127),\n",
       " Note(start=60.820917, end=61.038167, pitch=89, velocity=127),\n",
       " Note(start=61.038167, end=61.260000, pitch=87, velocity=127),\n",
       " Note(start=61.260000, end=61.704063, pitch=82, velocity=127),\n",
       " Note(start=61.704063, end=62.154063, pitch=87, velocity=127),\n",
       " Note(start=62.154063, end=62.598167, pitch=87, velocity=127),\n",
       " Note(start=62.598167, end=62.815417, pitch=87, velocity=127),\n",
       " Note(start=62.815417, end=63.038167, pitch=89, velocity=127),\n",
       " Note(start=63.038167, end=63.260000, pitch=87, velocity=127),\n",
       " Note(start=63.260000, end=65.038167, pitch=91, velocity=127),\n",
       " Note(start=66.380917, end=66.579833, pitch=75, velocity=100),\n",
       " Note(start=66.598167, end=66.797083, pitch=78, velocity=100),\n",
       " Note(start=66.815417, end=67.018917, pitch=80, velocity=100),\n",
       " Note(start=67.038167, end=67.241667, pitch=83, velocity=100),\n",
       " Note(start=67.260000, end=67.468125, pitch=82, velocity=100),\n",
       " Note(start=67.486875, end=67.581563, pitch=78, velocity=100),\n",
       " Note(start=67.601250, end=67.804417, pitch=80, velocity=100),\n",
       " Note(start=68.149083, end=68.357188, pitch=75, velocity=100),\n",
       " Note(start=68.375938, end=68.584063, pitch=78, velocity=100),\n",
       " Note(start=68.602750, end=68.802583, pitch=80, velocity=100),\n",
       " Note(start=68.820917, end=69.019833, pitch=83, velocity=100),\n",
       " Note(start=69.038167, end=69.246250, pitch=82, velocity=100),\n",
       " Note(start=69.265000, end=69.359688, pitch=78, velocity=100),\n",
       " Note(start=69.378438, end=69.582583, pitch=80, velocity=100),\n",
       " Note(start=69.926333, end=70.130750, pitch=87, velocity=100),\n",
       " Note(start=70.149083, end=70.352583, pitch=87, velocity=100),\n",
       " Note(start=71.037250, end=71.130750, pitch=87, velocity=100),\n",
       " Note(start=71.149083, end=71.241667, pitch=87, velocity=100),\n",
       " Note(start=71.260000, end=71.468125, pitch=87, velocity=100),\n",
       " Note(start=71.486875, end=71.695938, pitch=85, velocity=100),\n",
       " Note(start=71.714583, end=71.913500, pitch=83, velocity=100),\n",
       " Note(start=71.931833, end=72.130750, pitch=82, velocity=100),\n",
       " Note(start=72.149083, end=72.357188, pitch=79, velocity=100),\n",
       " Note(start=72.375938, end=72.584063, pitch=75, velocity=100),\n",
       " Note(start=72.602750, end=72.802583, pitch=87, velocity=100),\n",
       " Note(start=72.820917, end=73.149083, pitch=85, velocity=100),\n",
       " Note(start=73.481875, end=73.686250, pitch=75, velocity=100),\n",
       " Note(start=73.704063, end=73.908438, pitch=78, velocity=100),\n",
       " Note(start=73.926250, end=74.130750, pitch=80, velocity=100),\n",
       " Note(start=74.149083, end=74.352583, pitch=83, velocity=100),\n",
       " Note(start=74.370938, end=74.574375, pitch=82, velocity=100),\n",
       " Note(start=74.593125, end=74.685938, pitch=78, velocity=100),\n",
       " Note(start=74.704688, end=74.908000, pitch=80, velocity=100),\n",
       " Note(start=75.260000, end=75.468125, pitch=75, velocity=100),\n",
       " Note(start=75.486875, end=75.695938, pitch=78, velocity=100),\n",
       " Note(start=75.714583, end=75.913500, pitch=80, velocity=100),\n",
       " Note(start=75.931833, end=76.130750, pitch=83, velocity=100),\n",
       " Note(start=76.149083, end=76.357188, pitch=82, velocity=100),\n",
       " Note(start=76.375938, end=76.470625, pitch=78, velocity=100),\n",
       " Note(start=76.489375, end=76.693500, pitch=80, velocity=100),\n",
       " Note(start=77.038167, end=77.241667, pitch=87, velocity=100),\n",
       " Note(start=77.260000, end=77.704063, pitch=87, velocity=100),\n",
       " Note(start=77.704063, end=77.908438, pitch=85, velocity=100),\n",
       " Note(start=77.926250, end=78.130750, pitch=83, velocity=100),\n",
       " Note(start=78.149083, end=78.241667, pitch=82, velocity=100),\n",
       " Note(start=78.260000, end=78.574375, pitch=79, velocity=100),\n",
       " Note(start=78.593125, end=78.796563, pitch=75, velocity=100),\n",
       " Note(start=78.815313, end=79.018917, pitch=82, velocity=100),\n",
       " Note(start=79.037250, end=79.241667, pitch=83, velocity=100),\n",
       " Note(start=79.260000, end=79.581563, pitch=82, velocity=100),\n",
       " Note(start=79.601250, end=80.451875, pitch=80, velocity=100),\n",
       " Note(start=86.593125, end=86.685938, pitch=82, velocity=127),\n",
       " Note(start=86.704688, end=86.796563, pitch=82, velocity=127),\n",
       " Note(start=86.815313, end=86.908000, pitch=82, velocity=127),\n",
       " Note(start=86.926333, end=87.129833, pitch=82, velocity=127),\n",
       " Note(start=87.149083, end=87.241667, pitch=82, velocity=127),\n",
       " Note(start=87.260000, end=87.354688, pitch=82, velocity=127),\n",
       " Note(start=87.373438, end=87.468125, pitch=82, velocity=127),\n",
       " Note(start=87.486875, end=87.581563, pitch=82, velocity=127),\n",
       " Note(start=87.601250, end=87.695938, pitch=82, velocity=127),\n",
       " Note(start=87.714583, end=87.804417, pitch=82, velocity=127),\n",
       " Note(start=87.822750, end=87.931833, pitch=82, velocity=127),\n",
       " Note(start=87.931833, end=88.040000, pitch=82, velocity=127),\n",
       " Note(start=88.040000, end=88.130750, pitch=82, velocity=127),\n",
       " Note(start=88.149083, end=88.357188, pitch=82, velocity=127),\n",
       " Note(start=88.375938, end=88.584063, pitch=79, velocity=127),\n",
       " Note(start=88.602750, end=88.693500, pitch=82, velocity=127),\n",
       " Note(start=88.711833, end=88.910750, pitch=84, velocity=127),\n",
       " Note(start=88.929083, end=89.129833, pitch=79, velocity=127),\n",
       " Note(start=90.149083, end=90.370938, pitch=82, velocity=127),\n",
       " Note(start=90.370938, end=90.463750, pitch=82, velocity=127),\n",
       " Note(start=90.482500, end=90.574375, pitch=82, velocity=127),\n",
       " Note(start=90.593125, end=90.704688, pitch=82, velocity=127),\n",
       " Note(start=90.704688, end=90.926333, pitch=82, velocity=127),\n",
       " Note(start=90.926333, end=91.149083, pitch=82, velocity=127),\n",
       " Note(start=91.149083, end=91.241667, pitch=82, velocity=127),\n",
       " Note(start=91.260000, end=91.354688, pitch=82, velocity=127),\n",
       " Note(start=91.373438, end=91.486875, pitch=82, velocity=127),\n",
       " Note(start=91.486875, end=91.601250, pitch=82, velocity=127),\n",
       " Note(start=91.601250, end=91.695938, pitch=79, velocity=127),\n",
       " Note(start=91.714583, end=91.822750, pitch=77, velocity=127),\n",
       " Note(start=91.822750, end=92.040000, pitch=75, velocity=127),\n",
       " Note(start=92.040000, end=92.149083, pitch=75, velocity=127),\n",
       " Note(start=92.149083, end=92.243750, pitch=77, velocity=127),\n",
       " Note(start=92.262500, end=92.470625, pitch=79, velocity=127),\n",
       " Note(start=92.489375, end=92.693500, pitch=75, velocity=127),\n",
       " Note(start=93.704063, end=93.796875, pitch=82, velocity=127),\n",
       " Note(start=93.815625, end=93.908438, pitch=82, velocity=127),\n",
       " Note(start=93.926250, end=94.018917, pitch=82, velocity=127),\n",
       " Note(start=94.037250, end=94.149083, pitch=82, velocity=127),\n",
       " Note(start=94.149083, end=94.260000, pitch=82, velocity=127),\n",
       " Note(start=94.260000, end=94.482500, pitch=82, velocity=127),\n",
       " Note(start=94.482500, end=94.704688, pitch=82, velocity=127),\n",
       " Note(start=94.704688, end=94.926333, pitch=82, velocity=127),\n",
       " Note(start=94.926333, end=95.037250, pitch=82, velocity=127),\n",
       " Note(start=95.037250, end=95.149083, pitch=82, velocity=127),\n",
       " Note(start=95.149083, end=95.241667, pitch=82, velocity=127),\n",
       " Note(start=95.260000, end=95.468125, pitch=82, velocity=127),\n",
       " Note(start=95.486875, end=95.695938, pitch=82, velocity=127),\n",
       " Note(start=95.714583, end=95.804417, pitch=82, velocity=127),\n",
       " Note(start=95.822750, end=96.021667, pitch=84, velocity=127),\n",
       " Note(start=96.040000, end=96.243750, pitch=84, velocity=127),\n",
       " Note(start=96.375938, end=96.602750, pitch=82, velocity=127),\n",
       " Note(start=96.602750, end=96.820000, pitch=82, velocity=127),\n",
       " Note(start=96.820000, end=97.038167, pitch=84, velocity=127),\n",
       " Note(start=97.038167, end=97.370917, pitch=87, velocity=127),\n",
       " Note(start=97.370917, end=97.704063, pitch=86, velocity=127),\n",
       " Note(start=97.704063, end=97.926250, pitch=84, velocity=127),\n",
       " Note(start=97.926250, end=98.149083, pitch=82, velocity=127),\n",
       " Note(start=98.149083, end=98.370938, pitch=79, velocity=127),\n",
       " Note(start=98.370938, end=98.593125, pitch=86, velocity=127),\n",
       " Note(start=98.593125, end=99.037250, pitch=86, velocity=127),\n",
       " Note(start=99.037250, end=99.931833, pitch=84, velocity=127),\n",
       " Note(start=100.820000, end=101.038167, pitch=80, velocity=127),\n",
       " Note(start=101.038167, end=101.265000, pitch=80, velocity=127),\n",
       " Note(start=101.265000, end=101.491833, pitch=80, velocity=127),\n",
       " Note(start=101.491833, end=101.709083, pitch=80, velocity=127),\n",
       " Note(start=101.709083, end=101.926333, pitch=82, velocity=127),\n",
       " Note(start=101.926333, end=102.149083, pitch=84, velocity=127),\n",
       " Note(start=102.149083, end=102.593125, pitch=82, velocity=127),\n",
       " Note(start=102.593125, end=102.815313, pitch=79, velocity=127),\n",
       " Note(start=102.815313, end=103.037250, pitch=77, velocity=127),\n",
       " Note(start=103.037250, end=103.486875, pitch=75, velocity=127),\n",
       " Note(start=103.486875, end=103.714583, pitch=75, velocity=127),\n",
       " Note(start=103.714583, end=103.931833, pitch=77, velocity=127),\n",
       " Note(start=103.931833, end=104.375938, pitch=79, velocity=127),\n",
       " Note(start=104.375938, end=104.602750, pitch=78, velocity=127),\n",
       " Note(start=104.602750, end=104.820000, pitch=79, velocity=127),\n",
       " Note(start=104.820000, end=104.929083, pitch=78, velocity=127),\n",
       " Note(start=104.929083, end=105.260000, pitch=79, velocity=127),\n",
       " Note(start=105.260000, end=105.481875, pitch=83, velocity=127),\n",
       " Note(start=105.481875, end=105.704063, pitch=86, velocity=127),\n",
       " Note(start=105.704063, end=105.926250, pitch=89, velocity=127),\n",
       " Note(start=105.926250, end=106.370938, pitch=87, velocity=127),\n",
       " Note(start=106.593125, end=106.815313, pitch=87, velocity=127),\n",
       " Note(start=106.815313, end=107.037250, pitch=87, velocity=127),\n",
       " Note(start=107.037250, end=107.260000, pitch=87, velocity=127),\n",
       " Note(start=107.260000, end=107.486875, pitch=89, velocity=127),\n",
       " Note(start=107.486875, end=107.714583, pitch=87, velocity=127),\n",
       " Note(start=107.714583, end=108.149083, pitch=91, velocity=127),\n",
       " Note(start=108.375938, end=108.489375, pitch=91, velocity=127),\n",
       " Note(start=108.489375, end=108.602750, pitch=91, velocity=127),\n",
       " Note(start=108.602750, end=108.820000, pitch=91, velocity=127),\n",
       " Note(start=108.820000, end=109.038167, pitch=89, velocity=127),\n",
       " Note(start=109.038167, end=109.260000, pitch=87, velocity=127),\n",
       " Note(start=109.260000, end=109.704063, pitch=82, velocity=127),\n",
       " Note(start=109.704063, end=110.154063, pitch=87, velocity=127),\n",
       " Note(start=110.154063, end=110.598167, pitch=87, velocity=127),\n",
       " Note(start=110.598167, end=110.815417, pitch=87, velocity=127),\n",
       " Note(start=110.815417, end=111.037250, pitch=89, velocity=127),\n",
       " Note(start=111.037250, end=111.260000, pitch=87, velocity=127),\n",
       " Note(start=111.260000, end=113.038167, pitch=91, velocity=127),\n",
       " Note(start=114.370938, end=114.574375, pitch=75, velocity=100),\n",
       " Note(start=114.593125, end=114.796563, pitch=78, velocity=100),\n",
       " Note(start=114.815313, end=115.018917, pitch=80, velocity=100),\n",
       " Note(start=115.037250, end=115.241667, pitch=83, velocity=100),\n",
       " Note(start=115.260000, end=115.468125, pitch=82, velocity=100),\n",
       " Note(start=115.486875, end=115.581563, pitch=78, velocity=100),\n",
       " Note(start=115.601250, end=115.804417, pitch=80, velocity=100),\n",
       " Note(start=116.149083, end=116.357188, pitch=75, velocity=100),\n",
       " Note(start=116.375938, end=116.584063, pitch=78, velocity=100),\n",
       " Note(start=116.602750, end=116.802583, pitch=80, velocity=100),\n",
       " Note(start=116.820000, end=117.019833, pitch=83, velocity=100),\n",
       " Note(start=117.038167, end=117.241667, pitch=82, velocity=100),\n",
       " Note(start=117.260000, end=117.352583, pitch=78, velocity=100),\n",
       " Note(start=117.370917, end=117.574688, pitch=80, velocity=100),\n",
       " Note(start=117.926250, end=118.129833, pitch=87, velocity=100),\n",
       " Note(start=118.149083, end=118.352583, pitch=87, velocity=100),\n",
       " Note(start=119.037250, end=119.260000, pitch=87, velocity=100),\n",
       " Note(start=119.260000, end=119.468125, pitch=87, velocity=100),\n",
       " Note(start=119.486875, end=119.601250, pitch=85, velocity=100),\n",
       " Note(start=119.601250, end=119.931833, pitch=83, velocity=100),\n",
       " Note(start=119.931833, end=120.130750, pitch=82, velocity=100),\n",
       " Note(start=120.149083, end=120.357188, pitch=79, velocity=100),\n",
       " Note(start=120.375938, end=120.584063, pitch=75, velocity=100),\n",
       " Note(start=120.602750, end=120.929083, pitch=87, velocity=100),\n",
       " Note(start=120.929083, end=121.352583, pitch=85, velocity=100),\n",
       " Note(start=121.481875, end=121.686250, pitch=75, velocity=100),\n",
       " Note(start=121.704063, end=121.908438, pitch=78, velocity=100),\n",
       " Note(start=121.926250, end=122.129833, pitch=80, velocity=100),\n",
       " Note(start=122.149083, end=122.352583, pitch=83, velocity=100),\n",
       " Note(start=122.370938, end=122.574375, pitch=82, velocity=100),\n",
       " Note(start=122.593125, end=122.685938, pitch=78, velocity=100),\n",
       " Note(start=122.704688, end=122.908000, pitch=80, velocity=100),\n",
       " Note(start=123.260000, end=123.468125, pitch=75, velocity=100),\n",
       " Note(start=123.486875, end=123.695938, pitch=78, velocity=100),\n",
       " Note(start=123.714583, end=123.913500, pitch=80, velocity=100),\n",
       " Note(start=123.931833, end=124.130750, pitch=83, velocity=100),\n",
       " Note(start=124.149083, end=124.357188, pitch=82, velocity=100),\n",
       " Note(start=124.375938, end=124.470625, pitch=78, velocity=100),\n",
       " Note(start=124.489375, end=124.693500, pitch=80, velocity=100),\n",
       " Note(start=125.037250, end=125.241667, pitch=87, velocity=100),\n",
       " Note(start=125.260000, end=125.593438, pitch=87, velocity=100),\n",
       " Note(start=125.704063, end=125.908438, pitch=85, velocity=100),\n",
       " Note(start=125.926250, end=126.129833, pitch=83, velocity=100),\n",
       " Note(start=126.149083, end=126.241667, pitch=82, velocity=100),\n",
       " Note(start=126.260000, end=126.574375, pitch=79, velocity=100),\n",
       " Note(start=126.593125, end=126.796563, pitch=75, velocity=100),\n",
       " Note(start=126.815313, end=127.018917, pitch=82, velocity=100),\n",
       " Note(start=127.037250, end=127.241667, pitch=83, velocity=100),\n",
       " Note(start=127.260000, end=127.600313, pitch=82, velocity=100),\n",
       " Note(start=127.600313, end=128.040000, pitch=80, velocity=100),\n",
       " Note(start=150.593125, end=150.815312, pitch=80, velocity=127),\n",
       " Note(start=150.815312, end=151.037250, pitch=80, velocity=127),\n",
       " Note(start=151.037250, end=151.260000, pitch=80, velocity=127),\n",
       " Note(start=151.260000, end=151.486875, pitch=80, velocity=127),\n",
       " Note(start=151.486875, end=151.714583, pitch=82, velocity=127),\n",
       " Note(start=151.714583, end=151.931833, pitch=84, velocity=127),\n",
       " Note(start=151.931833, end=152.375937, pitch=82, velocity=127),\n",
       " Note(start=152.375937, end=152.602750, pitch=79, velocity=127),\n",
       " Note(start=152.602750, end=152.820000, pitch=77, velocity=127),\n",
       " Note(start=152.820000, end=153.260000, pitch=75, velocity=127),\n",
       " Note(start=153.260000, end=153.481875, pitch=75, velocity=127),\n",
       " Note(start=153.481875, end=153.704062, pitch=77, velocity=127),\n",
       " Note(start=153.704062, end=154.149083, pitch=79, velocity=127),\n",
       " Note(start=154.149083, end=154.370937, pitch=78, velocity=127),\n",
       " Note(start=154.370937, end=154.593125, pitch=79, velocity=127),\n",
       " Note(start=154.593125, end=154.704687, pitch=78, velocity=127),\n",
       " Note(start=154.704687, end=155.037250, pitch=79, velocity=127),\n",
       " Note(start=155.037250, end=155.260000, pitch=83, velocity=127),\n",
       " Note(start=155.260000, end=155.486875, pitch=86, velocity=127),\n",
       " Note(start=155.486875, end=155.714583, pitch=89, velocity=127),\n",
       " Note(start=155.714583, end=156.149083, pitch=87, velocity=127),\n",
       " Note(start=156.375937, end=156.602750, pitch=87, velocity=127),\n",
       " Note(start=156.602750, end=156.820000, pitch=87, velocity=127),\n",
       " Note(start=156.820000, end=157.037250, pitch=87, velocity=127),\n",
       " Note(start=157.037250, end=157.260000, pitch=89, velocity=127),\n",
       " Note(start=157.260000, end=157.481875, pitch=87, velocity=127),\n",
       " Note(start=157.481875, end=157.926250, pitch=91, velocity=127),\n",
       " Note(start=158.149083, end=158.260000, pitch=91, velocity=127),\n",
       " Note(start=158.260000, end=158.370937, pitch=91, velocity=127),\n",
       " Note(start=158.370937, end=158.593125, pitch=91, velocity=127),\n",
       " Note(start=158.593125, end=158.815312, pitch=89, velocity=127),\n",
       " Note(start=158.815312, end=159.037250, pitch=87, velocity=127),\n",
       " Note(start=159.037250, end=159.260000, pitch=82, velocity=127),\n",
       " Note(start=159.260000, end=159.486875, pitch=82, velocity=127),\n",
       " Note(start=159.486875, end=159.931833, pitch=87, velocity=127),\n",
       " Note(start=159.931833, end=160.370917, pitch=87, velocity=127),\n",
       " Note(start=160.370917, end=160.815000, pitch=89, velocity=127),\n",
       " Note(start=160.815000, end=161.037187, pitch=87, velocity=127),\n",
       " Note(start=161.037187, end=162.815312, pitch=91, velocity=127),\n",
       " Note(start=164.149083, end=164.357187, pitch=75, velocity=100),\n",
       " Note(start=164.375937, end=164.584062, pitch=78, velocity=100),\n",
       " Note(start=164.602750, end=164.802583, pitch=80, velocity=100),\n",
       " Note(start=164.820000, end=165.019833, pitch=83, velocity=100),\n",
       " Note(start=165.037250, end=165.241667, pitch=82, velocity=100),\n",
       " Note(start=165.260000, end=165.352583, pitch=78, velocity=100),\n",
       " Note(start=165.370917, end=165.574687, pitch=80, velocity=100),\n",
       " Note(start=165.926250, end=166.129833, pitch=75, velocity=100),\n",
       " Note(start=166.149083, end=166.352583, pitch=78, velocity=100),\n",
       " Note(start=166.370937, end=166.574375, pitch=80, velocity=100),\n",
       " Note(start=166.593125, end=166.796562, pitch=83, velocity=100),\n",
       " Note(start=166.815312, end=167.018917, pitch=82, velocity=100),\n",
       " Note(start=167.037250, end=167.129833, pitch=78, velocity=100),\n",
       " Note(start=167.149083, end=167.354687, pitch=80, velocity=100),\n",
       " Note(start=167.714583, end=167.913500, pitch=87, velocity=100),\n",
       " Note(start=167.931833, end=168.130750, pitch=87, velocity=100),\n",
       " Note(start=168.820000, end=168.910750, pitch=87, velocity=100),\n",
       " Note(start=168.929083, end=169.019833, pitch=87, velocity=100),\n",
       " Note(start=169.037250, end=169.241667, pitch=87, velocity=100),\n",
       " Note(start=169.260000, end=169.463500, pitch=85, velocity=100),\n",
       " Note(start=169.481875, end=169.685312, pitch=83, velocity=100),\n",
       " Note(start=169.704062, end=169.908437, pitch=82, velocity=100),\n",
       " Note(start=169.926250, end=170.129833, pitch=79, velocity=100),\n",
       " Note(start=170.149083, end=170.352583, pitch=75, velocity=100),\n",
       " Note(start=170.370937, end=170.704687, pitch=87, velocity=100),\n",
       " Note(start=170.704687, end=170.908000, pitch=85, velocity=100),\n",
       " Note(start=171.260000, end=171.468125, pitch=75, velocity=100),\n",
       " Note(start=171.486875, end=171.695000, pitch=78, velocity=100),\n",
       " Note(start=171.714583, end=171.913500, pitch=80, velocity=100),\n",
       " Note(start=171.931833, end=172.130750, pitch=83, velocity=100),\n",
       " Note(start=172.149083, end=172.352583, pitch=82, velocity=100),\n",
       " Note(start=172.370917, end=172.463500, pitch=78, velocity=100),\n",
       " Note(start=172.481833, end=172.685625, pitch=80, velocity=100),\n",
       " Note(start=173.037187, end=173.241667, pitch=75, velocity=100),\n",
       " Note(start=173.260000, end=173.463500, pitch=78, velocity=100),\n",
       " Note(start=173.481875, end=173.685312, pitch=80, velocity=100),\n",
       " Note(start=173.704062, end=173.908437, pitch=83, velocity=100),\n",
       " Note(start=173.926250, end=174.129833, pitch=82, velocity=100),\n",
       " Note(start=174.149083, end=174.241667, pitch=78, velocity=100),\n",
       " Note(start=174.260000, end=174.463750, pitch=80, velocity=100),\n",
       " Note(start=174.815312, end=175.018917, pitch=87, velocity=100),\n",
       " Note(start=175.037250, end=175.354687, pitch=87, velocity=100),\n",
       " Note(start=175.486875, end=175.695000, pitch=85, velocity=100),\n",
       " Note(start=175.714583, end=175.913500, pitch=83, velocity=100),\n",
       " Note(start=175.931833, end=176.021667, pitch=82, velocity=100),\n",
       " Note(start=176.040000, end=176.352583, pitch=79, velocity=100),\n",
       " Note(start=176.370917, end=176.574417, pitch=75, velocity=100),\n",
       " Note(start=176.592812, end=176.797187, pitch=82, velocity=80),\n",
       " Note(start=176.592812, end=176.797187, pitch=75, velocity=100),\n",
       " Note(start=176.815000, end=177.019375, pitch=83, velocity=80),\n",
       " Note(start=176.815000, end=177.019375, pitch=78, velocity=100),\n",
       " Note(start=177.037187, end=177.241667, pitch=82, velocity=80),\n",
       " Note(start=177.037187, end=177.241667, pitch=80, velocity=100),\n",
       " Note(start=177.260000, end=177.463500, pitch=80, velocity=80),\n",
       " Note(start=177.260000, end=177.463500, pitch=83, velocity=100),\n",
       " Note(start=177.481875, end=177.685312, pitch=82, velocity=100),\n",
       " Note(start=177.704062, end=177.796875, pitch=78, velocity=100),\n",
       " Note(start=177.815625, end=178.018917, pitch=80, velocity=100),\n",
       " Note(start=178.370937, end=178.574375, pitch=75, velocity=100),\n",
       " Note(start=178.593125, end=178.796562, pitch=78, velocity=100),\n",
       " Note(start=178.815312, end=179.018917, pitch=80, velocity=100),\n",
       " Note(start=179.037250, end=179.241667, pitch=83, velocity=100),\n",
       " Note(start=179.260000, end=179.468125, pitch=82, velocity=100),\n",
       " Note(start=179.486875, end=179.581562, pitch=78, velocity=100),\n",
       " Note(start=179.600312, end=179.804417, pitch=80, velocity=100),\n",
       " Note(start=180.149083, end=180.357187, pitch=87, velocity=100),\n",
       " Note(start=180.375937, end=180.584062, pitch=87, velocity=100),\n",
       " Note(start=181.265000, end=181.491833, pitch=87, velocity=100),\n",
       " Note(start=181.491833, end=181.690750, pitch=87, velocity=100),\n",
       " Note(start=181.709083, end=181.818167, pitch=85, velocity=100),\n",
       " Note(start=181.818167, end=182.149083, pitch=83, velocity=100),\n",
       " Note(start=182.149083, end=182.352583, pitch=82, velocity=100),\n",
       " Note(start=182.370937, end=182.574375, pitch=79, velocity=100),\n",
       " Note(start=182.593125, end=182.796562, pitch=75, velocity=100),\n",
       " Note(start=182.815312, end=183.149083, pitch=87, velocity=100),\n",
       " Note(start=183.149083, end=183.354687, pitch=85, velocity=100),\n",
       " Note(start=183.714583, end=183.913500, pitch=75, velocity=100),\n",
       " Note(start=183.931833, end=184.130750, pitch=78, velocity=100),\n",
       " Note(start=184.149083, end=184.357187, pitch=80, velocity=100),\n",
       " Note(start=184.375937, end=184.584062, pitch=83, velocity=100),\n",
       " Note(start=184.602750, end=184.802583, pitch=82, velocity=100),\n",
       " Note(start=184.820000, end=184.910750, pitch=78, velocity=100),\n",
       " Note(start=184.929083, end=185.129833, pitch=80, velocity=100),\n",
       " Note(start=185.481875, end=185.685312, pitch=75, velocity=100),\n",
       " Note(start=185.704062, end=185.907500, pitch=78, velocity=100),\n",
       " Note(start=185.926250, end=186.129833, pitch=80, velocity=100),\n",
       " Note(start=186.149083, end=186.352583, pitch=83, velocity=100),\n",
       " Note(start=186.370937, end=186.574375, pitch=82, velocity=100),\n",
       " Note(start=186.593125, end=186.685937, pitch=78, velocity=100),\n",
       " Note(start=186.704687, end=186.908000, pitch=80, velocity=100),\n",
       " Note(start=187.260000, end=187.468125, pitch=87, velocity=100),\n",
       " Note(start=187.486875, end=187.804417, pitch=87, velocity=100),\n",
       " Note(start=187.931833, end=188.130750, pitch=85, velocity=100),\n",
       " Note(start=188.149083, end=188.357187, pitch=83, velocity=100),\n",
       " Note(start=188.375937, end=188.470625, pitch=82, velocity=100),\n",
       " Note(start=188.489375, end=188.802583, pitch=79, velocity=100),\n",
       " Note(start=188.820000, end=189.019833, pitch=75, velocity=100),\n",
       " Note(start=189.037250, end=189.241667, pitch=82, velocity=100),\n",
       " Note(start=189.260000, end=189.463500, pitch=83, velocity=100),\n",
       " Note(start=189.481875, end=189.796875, pitch=82, velocity=100),\n",
       " Note(start=189.815625, end=191.241667, pitch=80, velocity=100)]"
      ]
     },
     "metadata": {},
     "output_type": "display_data"
    },
    {
     "data": {
      "image/png": "[encoded data removed]",
      "text/plain": [
       "<matplotlib.figure.Figure at 0x1072d1160>"
      ]
     },
     "metadata": {},
     "output_type": "display_data"
    }
   ],
   "source": [
    "# get downbeat from the whole music\n",
    "midi_data = pretty_midi.PrettyMIDI('./melody-chord-MIDI-RWC100/AIST.RWC-MDB-P-2001.SMF_SYNC/RM-P001.SMF_SYNC.MID')\n",
    "print(midi_data.get_downbeats())\n",
    "display(midi_data.instruments)\n",
    "midi_data.instruments = [midi_data.instruments[4]]\n",
    "display(\"after selection by Metadata:\", midi_data.instruments)\n",
    "show_score(midi_data.get_piano_roll(fs = 10), fs = 10)\n",
    "display(\"notes are:\", midi_data.instruments[0].notes)"
   ]
  },
  {
   "cell_type": "markdown",
   "metadata": {},
   "source": [
    "<h2> Extract Melody </h2>"
   ]
  },
  {
   "cell_type": "raw",
   "metadata": {},
   "source": [
    "file list operations"
   ]
  },
  {
   "cell_type": "code",
   "execution_count": 4,
   "metadata": {},
   "outputs": [
    {
     "name": "stdout",
     "output_type": "stream",
     "text": [
      "0 RM-P097.SMF_SYNC.MID\n"
     ]
    },
    {
     "data": {
      "text/plain": [
       "'the instruments are'"
      ]
     },
     "metadata": {},
     "output_type": "display_data"
    },
    {
     "data": {
      "text/plain": [
       "[Instrument(program=12, is_drum=False, name=\"MARIMBA/PIANO\"),\n",
       " Instrument(program=1, is_drum=False, name=\"MARIMBA/PIANO\"),\n",
       " Instrument(program=39, is_drum=False, name=\"BASS\"),\n",
       " Instrument(program=5, is_drum=False, name=\"E.PIANO\"),\n",
       " Instrument(program=73, is_drum=False, name=\"MELODY\"),\n",
       " Instrument(program=24, is_drum=False, name=\"AC.GT\"),\n",
       " Instrument(program=28, is_drum=False, name=\"MUTE GT\"),\n",
       " Instrument(program=29, is_drum=False, name=\"E.GT(R)\"),\n",
       " Instrument(program=25, is_drum=False, name=\"F.GT\"),\n",
       " Instrument(program=27, is_drum=False, name=\"CUTTING GT\"),\n",
       " Instrument(program=0, is_drum=True, name=\"DRUMS\"),\n",
       " Instrument(program=89, is_drum=False, name=\"PAD\"),\n",
       " Instrument(program=48, is_drum=False, name=\"PAD STR\"),\n",
       " Instrument(program=48, is_drum=False, name=\"STR/BRASS2\"),\n",
       " Instrument(program=61, is_drum=False, name=\"STR/BRASS2\"),\n",
       " Instrument(program=78, is_drum=False, name=\"FUE/KIRA/BRASS\"),\n",
       " Instrument(program=98, is_drum=False, name=\"FUE/KIRA/BRASS\"),\n",
       " Instrument(program=61, is_drum=False, name=\"FUE/KIRA/BRASS\"),\n",
       " Instrument(program=57, is_drum=False, name=\"TROM/SYN./ETC...\"),\n",
       " Instrument(program=95, is_drum=False, name=\"TROM/SYN./ETC...\"),\n",
       " Instrument(program=117, is_drum=False, name=\"TROM/SYN./ETC...\"),\n",
       " Instrument(program=55, is_drum=False, name=\"TROM/SYN./ETC...\"),\n",
       " Instrument(program=48, is_drum=False, name=\"TROM/SYN./ETC...\")]"
      ]
     },
     "metadata": {},
     "output_type": "display_data"
    },
    {
     "name": "stdout",
     "output_type": "stream",
     "text": [
      "1 RM-P068.SMF_SYNC.MID\n"
     ]
    },
    {
     "data": {
      "text/plain": [
       "'the instruments are'"
      ]
     },
     "metadata": {},
     "output_type": "display_data"
    },
    {
     "data": {
      "text/plain": [
       "[Instrument(program=0, is_drum=False, name=\"PIANO\"),\n",
       " Instrument(program=33, is_drum=False, name=\"BASS\"),\n",
       " Instrument(program=28, is_drum=False, name=\"E.GT 1\"),\n",
       " Instrument(program=73, is_drum=False, name=\"MELO\"),\n",
       " Instrument(program=88, is_drum=False, name=\"SYN\"),\n",
       " Instrument(program=61, is_drum=False, name=\"BRASS\"),\n",
       " Instrument(program=48, is_drum=False, name=\"STRINGS 1\"),\n",
       " Instrument(program=48, is_drum=False, name=\"STRINGS 2\"),\n",
       " Instrument(program=25, is_drum=False, name=\"A.GT\"),\n",
       " Instrument(program=0, is_drum=True, name=\"DRUMS\"),\n",
       " Instrument(program=27, is_drum=False, name=\"E.GT 2\"),\n",
       " Instrument(program=25, is_drum=False, name=\"A.GT CUT 1\"),\n",
       " Instrument(program=25, is_drum=False, name=\"A.GT CUT 2\"),\n",
       " Instrument(program=53, is_drum=False, name=\"CHORUS\")]"
      ]
     },
     "metadata": {},
     "output_type": "display_data"
    },
    {
     "name": "stdout",
     "output_type": "stream",
     "text": [
      "2 RM-P090.SMF_SYNC.MID\n"
     ]
    },
    {
     "data": {
      "text/plain": [
       "'the instruments are'"
      ]
     },
     "metadata": {},
     "output_type": "display_data"
    },
    {
     "data": {
      "text/plain": [
       "[Instrument(program=3, is_drum=False, name=\"Piano\"),\n",
       " Instrument(program=33, is_drum=False, name=\"Bass\"),\n",
       " Instrument(program=50, is_drum=False, name=\"Pad\"),\n",
       " Instrument(program=73, is_drum=False, name=\"Melody\"),\n",
       " Instrument(program=54, is_drum=False, name=\"Chorus\"),\n",
       " Instrument(program=62, is_drum=False, name=\"Brass\"),\n",
       " Instrument(program=38, is_drum=False, name=\"Arrpegio\"),\n",
       " Instrument(program=88, is_drum=False, name=\"Fantasy\"),\n",
       " Instrument(program=29, is_drum=False, name=\"Lead Gt\"),\n",
       " Instrument(program=0, is_drum=True, name=\"Drums\"),\n",
       " Instrument(program=25, is_drum=False, name=\"Ac.Gt.L.\"),\n",
       " Instrument(program=30, is_drum=False, name=\"Dist.R.\"),\n",
       " Instrument(program=80, is_drum=False, name=\"PortaSyn\")]"
      ]
     },
     "metadata": {},
     "output_type": "display_data"
    },
    {
     "name": "stdout",
     "output_type": "stream",
     "text": [
      "3 RM-P085.SMF_SYNC.MID\n"
     ]
    },
    {
     "data": {
      "text/plain": [
       "'the instruments are'"
      ]
     },
     "metadata": {},
     "output_type": "display_data"
    },
    {
     "data": {
      "text/plain": [
       "[Instrument(program=2, is_drum=False, name=\"E.PIANO\"),\n",
       " Instrument(program=39, is_drum=False, name=\"BASS \"),\n",
       " Instrument(program=27, is_drum=False, name=\"GT 1\"),\n",
       " Instrument(program=73, is_drum=False, name=\"MELODY\"),\n",
       " Instrument(program=7, is_drum=False, name=\"GT 2\"),\n",
       " Instrument(program=28, is_drum=False, name=\"M GT\"),\n",
       " Instrument(program=49, is_drum=False, name=\"SYN STR\"),\n",
       " Instrument(program=61, is_drum=False, name=\"BRASS 1\"),\n",
       " Instrument(program=62, is_drum=False, name=\"BRASS 2\"),\n",
       " Instrument(program=16, is_drum=True, name=\"DRUMS \"),\n",
       " Instrument(program=25, is_drum=False, name=\"SUBDRUMS    \"),\n",
       " Instrument(program=10, is_drum=False, name=\"BELL\"),\n",
       " Instrument(program=9, is_drum=False, name=\"GLOCKEN\"),\n",
       " Instrument(program=100, is_drum=False, name=\"BRIGHTNESS\"),\n",
       " Instrument(program=87, is_drum=False, name=\"SYNTH\"),\n",
       " Instrument(program=53, is_drum=False, name=\"CHORUS\")]"
      ]
     },
     "metadata": {},
     "output_type": "display_data"
    },
    {
     "name": "stdout",
     "output_type": "stream",
     "text": [
      "4 RM-P082.SMF_SYNC.MID\n"
     ]
    },
    {
     "data": {
      "text/plain": [
       "'the instruments are'"
      ]
     },
     "metadata": {},
     "output_type": "display_data"
    },
    {
     "data": {
      "text/plain": [
       "[Instrument(program=90, is_drum=False, name=\"Pad\"),\n",
       " Instrument(program=33, is_drum=False, name=\"Bass\"),\n",
       " Instrument(program=4, is_drum=False, name=\"E.P.\"),\n",
       " Instrument(program=73, is_drum=False, name=\"Melo\"),\n",
       " Instrument(program=88, is_drum=False, name=\"Fantasy\"),\n",
       " Instrument(program=30, is_drum=False, name=\"Lead Gt.1\"),\n",
       " Instrument(program=30, is_drum=False, name=\"Lead Gt.2\"),\n",
       " Instrument(program=30, is_drum=False, name=\"Chord.L\"),\n",
       " Instrument(program=30, is_drum=False, name=\"Chord.R\"),\n",
       " Instrument(program=0, is_drum=True, name=\"Drums\"),\n",
       " Instrument(program=0, is_drum=False, name=\"Shaker\"),\n",
       " Instrument(program=27, is_drum=False, name=\"Clean Gt.\"),\n",
       " Instrument(program=26, is_drum=False, name=\"Clean Lead\"),\n",
       " Instrument(program=120, is_drum=False, name=\"Pick Scrape\")]"
      ]
     },
     "metadata": {},
     "output_type": "display_data"
    },
    {
     "name": "stdout",
     "output_type": "stream",
     "text": [
      "5 RM-P028.SMF_SYNC.MID\n"
     ]
    },
    {
     "data": {
      "text/plain": [
       "'the instruments are'"
      ]
     },
     "metadata": {},
     "output_type": "display_data"
    },
    {
     "data": {
      "text/plain": [
       "[Instrument(program=80, is_drum=False, name=\"SYN.LEAD\"),\n",
       " Instrument(program=81, is_drum=False, name=\"SYN.LEAD\"),\n",
       " Instrument(program=33, is_drum=False, name=\"BASS\"),\n",
       " Instrument(program=93, is_drum=False, name=\"SYNTH 1\"),\n",
       " Instrument(program=73, is_drum=False, name=\"MELODY\"),\n",
       " Instrument(program=0, is_drum=False, name=\"A.PIANO\"),\n",
       " Instrument(program=48, is_drum=False, name=\"STRINGS 1\"),\n",
       " Instrument(program=48, is_drum=False, name=\"STRINGS 2\"),\n",
       " Instrument(program=62, is_drum=False, name=\"SYNTH 2\"),\n",
       " Instrument(program=4, is_drum=False, name=\"E.PIANO\"),\n",
       " Instrument(program=25, is_drum=True, name=\"DRUMS 1\"),\n",
       " Instrument(program=1, is_drum=False, name=\"DRUMS 2\"),\n",
       " Instrument(program=28, is_drum=False, name=\"E.GUITAR 1\"),\n",
       " Instrument(program=30, is_drum=False, name=\"E.GUITAR 2\"),\n",
       " Instrument(program=127, is_drum=False, name=\"E.GUITAR 3\"),\n",
       " Instrument(program=28, is_drum=False, name=\"E.GUITAR 3\"),\n",
       " Instrument(program=54, is_drum=False, name=\"CHORUS\"),\n",
       " Instrument(program=80, is_drum=False, name=\"SYNTH 3\")]"
      ]
     },
     "metadata": {},
     "output_type": "display_data"
    },
    {
     "name": "stdout",
     "output_type": "stream",
     "text": [
      "6 RM-P019.SMF_SYNC.MID\n"
     ]
    },
    {
     "data": {
      "text/plain": [
       "'the instruments are'"
      ]
     },
     "metadata": {},
     "output_type": "display_data"
    },
    {
     "data": {
      "text/plain": [
       "[Instrument(program=2, is_drum=False, name=\"A.PIANO\"),\n",
       " Instrument(program=39, is_drum=False, name=\"BASS\"),\n",
       " Instrument(program=54, is_drum=False, name=\"E.GUITAR 1/CHORUS\"),\n",
       " Instrument(program=30, is_drum=False, name=\"E.GUITAR 1/CHORUS\"),\n",
       " Instrument(program=73, is_drum=False, name=\"MELODY\"),\n",
       " Instrument(program=87, is_drum=False, name=\"SYNTH 1\"),\n",
       " Instrument(program=87, is_drum=False, name=\"SYNTH 2\"),\n",
       " Instrument(program=98, is_drum=False, name=\"KIRA\"),\n",
       " Instrument(program=119, is_drum=False, name=\"REVERSE.CYM\"),\n",
       " Instrument(program=61, is_drum=False, name=\"BRASS\"),\n",
       " Instrument(program=25, is_drum=True, name=\"DRUMS 1\"),\n",
       " Instrument(program=24, is_drum=False, name=\"DRUMS 2\"),\n",
       " Instrument(program=48, is_drum=False, name=\"STRINGS/E.GUITAR \"),\n",
       " Instrument(program=30, is_drum=False, name=\"STRINGS/E.GUITAR \"),\n",
       " Instrument(program=31, is_drum=False, name=\"STRINGS/E.GUITAR \"),\n",
       " Instrument(program=50, is_drum=False, name=\"PAD 1/PAD 2\"),\n",
       " Instrument(program=89, is_drum=False, name=\"PAD 1/PAD 2\"),\n",
       " Instrument(program=30, is_drum=False, name=\"E.GUITAR 2\"),\n",
       " Instrument(program=31, is_drum=False, name=\"E.GUITAR 2\"),\n",
       " Instrument(program=29, is_drum=False, name=\"E.GUITAR 2\"),\n",
       " Instrument(program=81, is_drum=False, name=\"SYNTH 3\"),\n",
       " Instrument(program=30, is_drum=False, name=\"E.GUITAR 3\")]"
      ]
     },
     "metadata": {},
     "output_type": "display_data"
    },
    {
     "name": "stdout",
     "output_type": "stream",
     "text": [
      "7 RM-P059.SMF_SYNC.MID\n"
     ]
    },
    {
     "data": {
      "text/plain": [
       "'the instruments are'"
      ]
     },
     "metadata": {},
     "output_type": "display_data"
    },
    {
     "data": {
      "text/plain": [
       "[Instrument(program=33, is_drum=False, name=\"BASS\"),\n",
       " Instrument(program=0, is_drum=False, name=\"A.PIANO\"),\n",
       " Instrument(program=11, is_drum=False, name=\"MELODY\"),\n",
       " Instrument(program=18, is_drum=False, name=\"ORGAN\"),\n",
       " Instrument(program=54, is_drum=False, name=\"PAD SYNTH\"),\n",
       " Instrument(program=59, is_drum=False, name=\"MUTED TRUMPET\"),\n",
       " Instrument(program=26, is_drum=False, name=\"E.GUITAR\"),\n",
       " Instrument(program=0, is_drum=True, name=\"DRUMS\"),\n",
       " Instrument(program=0, is_drum=False, name=\"SAMPLE DRUMS\")]"
      ]
     },
     "metadata": {},
     "output_type": "display_data"
    },
    {
     "name": "stdout",
     "output_type": "stream",
     "text": [
      "8 RM-P029.SMF_SYNC.MID\n"
     ]
    },
    {
     "data": {
      "text/plain": [
       "'the instruments are'"
      ]
     },
     "metadata": {},
     "output_type": "display_data"
    },
    {
     "data": {
      "text/plain": [
       "[Instrument(program=1, is_drum=False, name=\"PIANO\"),\n",
       " Instrument(program=39, is_drum=False, name=\"BASS\"),\n",
       " Instrument(program=5, is_drum=False, name=\"E.PIANO\"),\n",
       " Instrument(program=73, is_drum=False, name=\"MELO\"),\n",
       " Instrument(program=64, is_drum=False, name=\"S.SAX\"),\n",
       " Instrument(program=17, is_drum=False, name=\"ORGAN\"),\n",
       " Instrument(program=46, is_drum=False, name=\"HARP\"),\n",
       " Instrument(program=119, is_drum=False, name=\"REVERSE\"),\n",
       " Instrument(program=126, is_drum=False, name=\"S.E\"),\n",
       " Instrument(program=0, is_drum=True, name=\"DRUM\"),\n",
       " Instrument(program=27, is_drum=False, name=\"Clean Wah<L>\"),\n",
       " Instrument(program=28, is_drum=False, name=\"Clean <R>\"),\n",
       " Instrument(program=27, is_drum=False, name=\"Clean <R>\"),\n",
       " Instrument(program=27, is_drum=False, name=\"Guitar <R>\"),\n",
       " Instrument(program=26, is_drum=False, name=\"Guitar <L>\"),\n",
       " Instrument(program=52, is_drum=False, name=\"CHO\")]"
      ]
     },
     "metadata": {},
     "output_type": "display_data"
    },
    {
     "name": "stdout",
     "output_type": "stream",
     "text": [
      "9 RM-P083.SMF_SYNC.MID\n"
     ]
    },
    {
     "data": {
      "text/plain": [
       "'the instruments are'"
      ]
     },
     "metadata": {},
     "output_type": "display_data"
    },
    {
     "data": {
      "text/plain": [
       "[Instrument(program=1, is_drum=False, name=\"PIANO\"),\n",
       " Instrument(program=36, is_drum=False, name=\"BASS\"),\n",
       " Instrument(program=29, is_drum=False, name=\"OD GT\"),\n",
       " Instrument(program=73, is_drum=False, name=\"MELODY\"),\n",
       " Instrument(program=30, is_drum=False, name=\"DIST GT\"),\n",
       " Instrument(program=61, is_drum=False, name=\"BRASS 1\"),\n",
       " Instrument(program=62, is_drum=False, name=\"BRASS 2\"),\n",
       " Instrument(program=18, is_drum=False, name=\"ORGAN1\"),\n",
       " Instrument(program=17, is_drum=False, name=\"ORGAN2\"),\n",
       " Instrument(program=8, is_drum=True, name=\"DRUMS\"),\n",
       " Instrument(program=28, is_drum=False, name=\"M.DIST GT\")]"
      ]
     },
     "metadata": {},
     "output_type": "display_data"
    },
    {
     "name": "stdout",
     "output_type": "stream",
     "text": [
      "10 RM-P084.SMF_SYNC.MID\n"
     ]
    },
    {
     "data": {
      "text/plain": [
       "'the instruments are'"
      ]
     },
     "metadata": {},
     "output_type": "display_data"
    },
    {
     "data": {
      "text/plain": [
       "[Instrument(program=3, is_drum=False, name=\"Piano\"),\n",
       " Instrument(program=33, is_drum=False, name=\"Bass\"),\n",
       " Instrument(program=88, is_drum=False, name=\"Fantasy\"),\n",
       " Instrument(program=73, is_drum=False, name=\"Melo\"),\n",
       " Instrument(program=54, is_drum=False, name=\"Chorus\"),\n",
       " Instrument(program=30, is_drum=False, name=\"Dist.Gt.L\"),\n",
       " Instrument(program=30, is_drum=False, name=\"Dist.Gt.R\"),\n",
       " Instrument(program=29, is_drum=False, name=\"OD.Guitar U\"),\n",
       " Instrument(program=29, is_drum=False, name=\"OD.Guitar.L\"),\n",
       " Instrument(program=0, is_drum=True, name=\"Drums\"),\n",
       " Instrument(program=48, is_drum=False, name=\"Strings\"),\n",
       " Instrument(program=98, is_drum=False, name=\"SynBell\")]"
      ]
     },
     "metadata": {},
     "output_type": "display_data"
    },
    {
     "name": "stdout",
     "output_type": "stream",
     "text": [
      "11 RM-P091.SMF_SYNC.MID\n"
     ]
    },
    {
     "data": {
      "text/plain": [
       "'the instruments are'"
      ]
     },
     "metadata": {},
     "output_type": "display_data"
    },
    {
     "data": {
      "text/plain": [
       "[Instrument(program=1, is_drum=False, name=\"PIANO\"),\n",
       " Instrument(program=39, is_drum=False, name=\"BASS\"),\n",
       " Instrument(program=81, is_drum=False, name=\"SYNTH SOLO\"),\n",
       " Instrument(program=73, is_drum=False, name=\"MELODY\"),\n",
       " Instrument(program=50, is_drum=False, name=\"SYN.STR\"),\n",
       " Instrument(program=61, is_drum=False, name=\"BRASS\"),\n",
       " Instrument(program=81, is_drum=False, name=\"SYNTH\"),\n",
       " Instrument(program=89, is_drum=False, name=\"PAD\"),\n",
       " Instrument(program=55, is_drum=False, name=\"HIT\"),\n",
       " Instrument(program=0, is_drum=True, name=\"DRUMS\"),\n",
       " Instrument(program=0, is_drum=False, name=\"BD&SD\"),\n",
       " Instrument(program=16, is_drum=False, name=\"KIRA\"),\n",
       " Instrument(program=30, is_drum=False, name=\"WOW\"),\n",
       " Instrument(program=90, is_drum=False, name=\"SYNTH(SEQ)\"),\n",
       " Instrument(program=122, is_drum=False, name=\"SE\")]"
      ]
     },
     "metadata": {},
     "output_type": "display_data"
    },
    {
     "name": "stdout",
     "output_type": "stream",
     "text": [
      "12 RM-P069.SMF_SYNC.MID\n"
     ]
    },
    {
     "data": {
      "text/plain": [
       "'the instruments are'"
      ]
     },
     "metadata": {},
     "output_type": "display_data"
    },
    {
     "data": {
      "text/plain": [
       "[Instrument(program=29, is_drum=False, name=\"OD GT\"),\n",
       " Instrument(program=39, is_drum=False, name=\"BASS\"),\n",
       " Instrument(program=87, is_drum=False, name=\"SYNTH SOLO\"),\n",
       " Instrument(program=73, is_drum=False, name=\"MELODY\"),\n",
       " Instrument(program=49, is_drum=False, name=\"STRINGS1\"),\n",
       " Instrument(program=48, is_drum=False, name=\"STRINGS2\"),\n",
       " Instrument(program=26, is_drum=False, name=\"JAZZ GT\"),\n",
       " Instrument(program=99, is_drum=False, name=\"SYNTH\"),\n",
       " Instrument(program=7, is_drum=False, name=\"WOW GT\"),\n",
       " Instrument(program=0, is_drum=True, name=\"DRUMS\"),\n",
       " Instrument(program=89, is_drum=False, name=\"PAD\"),\n",
       " Instrument(program=124, is_drum=False, name=\"WINDBELL\"),\n",
       " Instrument(program=4, is_drum=False, name=\"E.PIANO\"),\n",
       " Instrument(program=98, is_drum=False, name=\"KIRA\"),\n",
       " Instrument(program=118, is_drum=False, name=\"808\")]"
      ]
     },
     "metadata": {},
     "output_type": "display_data"
    },
    {
     "name": "stdout",
     "output_type": "stream",
     "text": [
      "13 RM-P096.SMF_SYNC.MID\n"
     ]
    },
    {
     "data": {
      "text/plain": [
       "'the instruments are'"
      ]
     },
     "metadata": {},
     "output_type": "display_data"
    },
    {
     "data": {
      "text/plain": [
       "[Instrument(program=122, is_drum=False, name=\"BURST SE\"),\n",
       " Instrument(program=38, is_drum=False, name=\"BASS\"),\n",
       " Instrument(program=2, is_drum=False, name=\"A.PIANO\"),\n",
       " Instrument(program=11, is_drum=False, name=\"MELODY\"),\n",
       " Instrument(program=52, is_drum=False, name=\"CHORUS\"),\n",
       " Instrument(program=50, is_drum=False, name=\"PAD SYNTH\"),\n",
       " Instrument(program=88, is_drum=False, name=\"ARPEGGIO L\"),\n",
       " Instrument(program=98, is_drum=False, name=\"ARPEGGIO R\"),\n",
       " Instrument(program=1, is_drum=False, name=\"ARPEGGIO C1\"),\n",
       " Instrument(program=0, is_drum=True, name=\"DRUMS\"),\n",
       " Instrument(program=1, is_drum=False, name=\"LOOP DRUMS\"),\n",
       " Instrument(program=98, is_drum=False, name=\"ARPEGGIO C2\"),\n",
       " Instrument(program=0, is_drum=False, name=\"A.PIANO 2\"),\n",
       " Instrument(program=124, is_drum=False, name=\"WIND CHAIM\"),\n",
       " Instrument(program=119, is_drum=False, name=\"REVERSE\"),\n",
       " Instrument(program=0, is_drum=False, name=\"A.PIANO 3\")]"
      ]
     },
     "metadata": {},
     "output_type": "display_data"
    },
    {
     "name": "stdout",
     "output_type": "stream",
     "text": [
      "14 Icon\r\n",
      "15 RM-P058.SMF_SYNC.MID\n"
     ]
    },
    {
     "data": {
      "text/plain": [
       "'the instruments are'"
      ]
     },
     "metadata": {},
     "output_type": "display_data"
    },
    {
     "data": {
      "text/plain": [
       "[Instrument(program=33, is_drum=False, name=\"BASS\"),\n",
       " Instrument(program=5, is_drum=False, name=\"E.PIANO\"),\n",
       " Instrument(program=11, is_drum=False, name=\"MELODY\"),\n",
       " Instrument(program=0, is_drum=False, name=\"A.PIANO\"),\n",
       " Instrument(program=73, is_drum=False, name=\"FLUTE\"),\n",
       " Instrument(program=66, is_drum=False, name=\"T.SAX\"),\n",
       " Instrument(program=87, is_drum=False, name=\"SYNTH 1 \"),\n",
       " Instrument(program=54, is_drum=False, name=\"SYNTH VOICE \"),\n",
       " Instrument(program=0, is_drum=True, name=\"DRUMS\"),\n",
       " Instrument(program=0, is_drum=False, name=\"SAMPLE DRUMS\"),\n",
       " Instrument(program=61, is_drum=False, name=\"BRASS \"),\n",
       " Instrument(program=82, is_drum=False, name=\"ANALOG SYNTH \")]"
      ]
     },
     "metadata": {},
     "output_type": "display_data"
    },
    {
     "name": "stdout",
     "output_type": "stream",
     "text": [
      "16 RM-P018.SMF_SYNC.MID\n"
     ]
    },
    {
     "data": {
      "text/plain": [
       "'the instruments are'"
      ]
     },
     "metadata": {},
     "output_type": "display_data"
    },
    {
     "data": {
      "text/plain": [
       "[Instrument(program=2, is_drum=False, name=\"E.PIANO\"),\n",
       " Instrument(program=33, is_drum=False, name=\"BASS\"),\n",
       " Instrument(program=89, is_drum=False, name=\"PAD\"),\n",
       " Instrument(program=73, is_drum=False, name=\"MELODY\"),\n",
       " Instrument(program=54, is_drum=False, name=\"CHORUS\"),\n",
       " Instrument(program=50, is_drum=False, name=\"SYN.STRINGS\"),\n",
       " Instrument(program=98, is_drum=False, name=\"BELL 1\"),\n",
       " Instrument(program=82, is_drum=False, name=\"BELL 2\"),\n",
       " Instrument(program=61, is_drum=False, name=\"SYN.BRASS\"),\n",
       " Instrument(program=0, is_drum=True, name=\"DRUMS 1\"),\n",
       " Instrument(program=0, is_drum=False, name=\"DRUMS 2\"),\n",
       " Instrument(program=30, is_drum=False, name=\"E.GUITAR 1\"),\n",
       " Instrument(program=29, is_drum=False, name=\"E.GUITAR 2\"),\n",
       " Instrument(program=30, is_drum=False, name=\"E.GUITAR 3\"),\n",
       " Instrument(program=27, is_drum=False, name=\"E.GUITAR 4\"),\n",
       " Instrument(program=26, is_drum=False, name=\"E.GUITAR 5\")]"
      ]
     },
     "metadata": {},
     "output_type": "display_data"
    },
    {
     "name": "stdout",
     "output_type": "stream",
     "text": [
      "17 RM-P040.SMF_SYNC.MID\n"
     ]
    },
    {
     "data": {
      "text/plain": [
       "'the instruments are'"
      ]
     },
     "metadata": {},
     "output_type": "display_data"
    },
    {
     "data": {
      "text/plain": [
       "[Instrument(program=1, is_drum=False, name=\"PIANO\"),\n",
       " Instrument(program=34, is_drum=False, name=\"BASS\"),\n",
       " Instrument(program=29, is_drum=False, name=\"LEAD E.GT\"),\n",
       " Instrument(program=73, is_drum=False, name=\"MELODY\"),\n",
       " Instrument(program=48, is_drum=False, name=\"STRINGS\"),\n",
       " Instrument(program=48, is_drum=False, name=\"STRINGS/L\"),\n",
       " Instrument(program=30, is_drum=False, name=\"DIST GT\"),\n",
       " Instrument(program=27, is_drum=False, name=\"Chorus Gt\"),\n",
       " Instrument(program=100, is_drum=False, name=\"KIRA\"),\n",
       " Instrument(program=8, is_drum=True, name=\"Drums\"),\n",
       " Instrument(program=25, is_drum=False, name=\"F.GT\"),\n",
       " Instrument(program=30, is_drum=False, name=\"D.GTR\"),\n",
       " Instrument(program=53, is_drum=False, name=\"CHORUS\")]"
      ]
     },
     "metadata": {},
     "output_type": "display_data"
    },
    {
     "name": "stdout",
     "output_type": "stream",
     "text": [
      "18 RM-P015.SMF_SYNC.MID\n"
     ]
    },
    {
     "data": {
      "text/plain": [
       "'the instruments are'"
      ]
     },
     "metadata": {},
     "output_type": "display_data"
    },
    {
     "data": {
      "text/plain": [
       "[Instrument(program=28, is_drum=False, name=\"SEQ.1\"),\n",
       " Instrument(program=36, is_drum=False, name=\"SEQ.2\"),\n",
       " Instrument(program=73, is_drum=False, name=\"MELO\"),\n",
       " Instrument(program=55, is_drum=False, name=\"HIT\"),\n",
       " Instrument(program=48, is_drum=False, name=\"STRINGS\"),\n",
       " Instrument(program=31, is_drum=False, name=\"E.G HARM\"),\n",
       " Instrument(program=88, is_drum=False, name=\"SYNTH\"),\n",
       " Instrument(program=39, is_drum=False, name=\"LOW SYNTH\"),\n",
       " Instrument(program=122, is_drum=False, name=\"SYNTH\"),\n",
       " Instrument(program=0, is_drum=True, name=\"DRUMS\"),\n",
       " Instrument(program=30, is_drum=False, name=\"Guitar<L>\"),\n",
       " Instrument(program=30, is_drum=False, name=\"Guitar<R>\"),\n",
       " Instrument(program=30, is_drum=False, name=\"Guitar<C>\"),\n",
       " Instrument(program=30, is_drum=False, name=\"E.G DELAY\"),\n",
       " Instrument(program=29, is_drum=False, name=\"E.G DELAY\")]"
      ]
     },
     "metadata": {},
     "output_type": "display_data"
    },
    {
     "name": "stdout",
     "output_type": "stream",
     "text": [
      "19 RM-P047.SMF_SYNC.MID\n"
     ]
    },
    {
     "data": {
      "text/plain": [
       "'the instruments are'"
      ]
     },
     "metadata": {},
     "output_type": "display_data"
    },
    {
     "data": {
      "text/plain": [
       "[Instrument(program=2, is_drum=False, name=\"PIANO\"),\n",
       " Instrument(program=33, is_drum=False, name=\"BASS\"),\n",
       " Instrument(program=30, is_drum=False, name=\"GT1\"),\n",
       " Instrument(program=22, is_drum=False, name=\"MELODY\"),\n",
       " Instrument(program=16, is_drum=False, name=\"ORGAN\"),\n",
       " Instrument(program=25, is_drum=False, name=\"GT2\"),\n",
       " Instrument(program=73, is_drum=False, name=\"FLUTE\"),\n",
       " Instrument(program=30, is_drum=False, name=\"GT3\"),\n",
       " Instrument(program=11, is_drum=False, name=\"CHORUS\"),\n",
       " Instrument(program=0, is_drum=True, name=\"DRUMS\"),\n",
       " Instrument(program=29, is_drum=False, name=\"GT4\")]"
      ]
     },
     "metadata": {},
     "output_type": "display_data"
    },
    {
     "name": "stdout",
     "output_type": "stream",
     "text": [
      "20 RM-P012.SMF_SYNC.MID\n"
     ]
    },
    {
     "data": {
      "text/plain": [
       "'the instruments are'"
      ]
     },
     "metadata": {},
     "output_type": "display_data"
    },
    {
     "data": {
      "text/plain": [
       "[Instrument(program=4, is_drum=False, name=\"E.P\"),\n",
       " Instrument(program=33, is_drum=False, name=\"BASS\"),\n",
       " Instrument(program=104, is_drum=False, name=\"SITAR\"),\n",
       " Instrument(program=73, is_drum=False, name=\"MELODY\"),\n",
       " Instrument(program=29, is_drum=False, name=\"O.D GT 1\"),\n",
       " Instrument(program=29, is_drum=False, name=\"O.D GT 2\"),\n",
       " Instrument(program=25, is_drum=False, name=\"A.GT 1\"),\n",
       " Instrument(program=25, is_drum=False, name=\"A.GT 2\"),\n",
       " Instrument(program=27, is_drum=False, name=\"C.GT 1\"),\n",
       " Instrument(program=0, is_drum=True, name=\"DRUMS\"),\n",
       " Instrument(program=27, is_drum=False, name=\"C.GT 2\"),\n",
       " Instrument(program=71, is_drum=False, name=\"CHO\")]"
      ]
     },
     "metadata": {},
     "output_type": "display_data"
    },
    {
     "name": "stdout",
     "output_type": "stream",
     "text": [
      "21 RM-P052.SMF_SYNC.MID\n"
     ]
    },
    {
     "data": {
      "text/plain": [
       "'the instruments are'"
      ]
     },
     "metadata": {},
     "output_type": "display_data"
    },
    {
     "data": {
      "text/plain": [
       "[Instrument(program=1, is_drum=False, name=\"A.PIANO\"),\n",
       " Instrument(program=33, is_drum=False, name=\"BASS\"),\n",
       " Instrument(program=18, is_drum=False, name=\"ORGAN\"),\n",
       " Instrument(program=73, is_drum=False, name=\"MELODY\"),\n",
       " Instrument(program=14, is_drum=False, name=\"BELL\"),\n",
       " Instrument(program=6, is_drum=False, name=\"HARPSICHORD\"),\n",
       " Instrument(program=45, is_drum=False, name=\"PIZZ\"),\n",
       " Instrument(program=48, is_drum=False, name=\"STRINGS\"),\n",
       " Instrument(program=4, is_drum=False, name=\"E.PIANO\"),\n",
       " Instrument(program=0, is_drum=True, name=\"DRUMS\"),\n",
       " Instrument(program=98, is_drum=False, name=\"BELL 2\"),\n",
       " Instrument(program=26, is_drum=False, name=\"E.GUITAR 1\"),\n",
       " Instrument(program=30, is_drum=False, name=\"E.GUITAR 2\"),\n",
       " Instrument(program=31, is_drum=False, name=\"E.GUITAR 2\"),\n",
       " Instrument(program=30, is_drum=False, name=\"E.GUITAR 3\"),\n",
       " Instrument(program=29, is_drum=False, name=\"E.GUITAR 3\"),\n",
       " Instrument(program=27, is_drum=False, name=\"E.GUITAR 4\"),\n",
       " Instrument(program=27, is_drum=False, name=\"E.GUITAR 5\")]"
      ]
     },
     "metadata": {},
     "output_type": "display_data"
    },
    {
     "name": "stdout",
     "output_type": "stream",
     "text": [
      "22 RM-P007.SMF_SYNC.MID\n"
     ]
    },
    {
     "data": {
      "text/plain": [
       "'the instruments are'"
      ]
     },
     "metadata": {},
     "output_type": "display_data"
    },
    {
     "data": {
      "text/plain": [
       "[Instrument(program=2, is_drum=False, name=\"PIANO\"),\n",
       " Instrument(program=39, is_drum=False, name=\"BASS\"),\n",
       " Instrument(program=98, is_drum=False, name=\"BELL\"),\n",
       " Instrument(program=73, is_drum=False, name=\"MELODY\"),\n",
       " Instrument(program=89, is_drum=False, name=\"PAD\"),\n",
       " Instrument(program=81, is_drum=False, name=\"SYN.BRASS\"),\n",
       " Instrument(program=81, is_drum=False, name=\"SEQ\"),\n",
       " Instrument(program=94, is_drum=False, name=\"STNTH\"),\n",
       " Instrument(program=48, is_drum=False, name=\"STRINGS\"),\n",
       " Instrument(program=8, is_drum=True, name=\"DRUMS\"),\n",
       " Instrument(program=25, is_drum=False, name=\"PERC\"),\n",
       " Instrument(program=80, is_drum=False, name=\"SYNTH.FILL\"),\n",
       " Instrument(program=30, is_drum=False, name=\"E.GUITAR 1\"),\n",
       " Instrument(program=30, is_drum=False, name=\"E.GUITAR 2\"),\n",
       " Instrument(program=28, is_drum=False, name=\"E.GUITAR 2\"),\n",
       " Instrument(program=31, is_drum=False, name=\"E.GUITAR 2(SUB)\")]"
      ]
     },
     "metadata": {},
     "output_type": "display_data"
    },
    {
     "name": "stdout",
     "output_type": "stream",
     "text": [
      "23 RM-P055.SMF_SYNC.MID\n"
     ]
    },
    {
     "data": {
      "text/plain": [
       "'the instruments are'"
      ]
     },
     "metadata": {},
     "output_type": "display_data"
    },
    {
     "data": {
      "text/plain": [
       "[Instrument(program=2, is_drum=False, name=\"pf\"),\n",
       " Instrument(program=33, is_drum=False, name=\"BASS\"),\n",
       " Instrument(program=29, is_drum=False, name=\"gt/solo\"),\n",
       " Instrument(program=22, is_drum=False, name=\"MELODY\"),\n",
       " Instrument(program=48, is_drum=False, name=\"st1\"),\n",
       " Instrument(program=48, is_drum=False, name=\"st2\"),\n",
       " Instrument(program=48, is_drum=False, name=\"st\"),\n",
       " Instrument(program=48, is_drum=False, name=\"st\"),\n",
       " Instrument(program=74, is_drum=False, name=\"flute\"),\n",
       " Instrument(program=0, is_drum=True, name=\"DRUMS\"),\n",
       " Instrument(program=27, is_drum=False, name=\"gt/c\"),\n",
       " Instrument(program=24, is_drum=False, name=\"gt/r\"),\n",
       " Instrument(program=30, is_drum=False, name=\"gt/l\"),\n",
       " Instrument(program=25, is_drum=False, name=\"gt/l\")]"
      ]
     },
     "metadata": {},
     "output_type": "display_data"
    },
    {
     "name": "stdout",
     "output_type": "stream",
     "text": [
      "24 RM-P063.SMF_SYNC.MID\n"
     ]
    },
    {
     "data": {
      "text/plain": [
       "'the instruments are'"
      ]
     },
     "metadata": {},
     "output_type": "display_data"
    },
    {
     "data": {
      "text/plain": [
       "[Instrument(program=99, is_drum=False, name=\"E.PIANO\"),\n",
       " Instrument(program=34, is_drum=False, name=\"BASS\"),\n",
       " Instrument(program=30, is_drum=False, name=\"D.GT\"),\n",
       " Instrument(program=73, is_drum=False, name=\"VOCAL\"),\n",
       " Instrument(program=28, is_drum=False, name=\"M.GT\"),\n",
       " Instrument(program=48, is_drum=False, name=\"STRINGS1\"),\n",
       " Instrument(program=100, is_drum=False, name=\"SYNTH1\"),\n",
       " Instrument(program=88, is_drum=False, name=\"SYNTH2\"),\n",
       " Instrument(program=61, is_drum=False, name=\"BRASS\"),\n",
       " Instrument(program=0, is_drum=True, name=\"DR\"),\n",
       " Instrument(program=48, is_drum=False, name=\"STRINGS2\")]"
      ]
     },
     "metadata": {},
     "output_type": "display_data"
    },
    {
     "name": "stdout",
     "output_type": "stream",
     "text": [
      "25 RM-P036.SMF_SYNC.MID\n"
     ]
    },
    {
     "data": {
      "text/plain": [
       "'the instruments are'"
      ]
     },
     "metadata": {},
     "output_type": "display_data"
    },
    {
     "data": {
      "text/plain": [
       "[Instrument(program=50, is_drum=False, name=\"INTRO PAD\"),\n",
       " Instrument(program=33, is_drum=False, name=\"BASS\"),\n",
       " Instrument(program=18, is_drum=False, name=\"ORGAN\"),\n",
       " Instrument(program=73, is_drum=False, name=\"MELODY 1\"),\n",
       " Instrument(program=53, is_drum=False, name=\"CHORUS\"),\n",
       " Instrument(program=48, is_drum=False, name=\"STRINGS\"),\n",
       " Instrument(program=61, is_drum=False, name=\"BRASS\"),\n",
       " Instrument(program=90, is_drum=False, name=\"SABI SQ\"),\n",
       " Instrument(program=124, is_drum=False, name=\"W.CHIME\"),\n",
       " Instrument(program=0, is_drum=True, name=\"DRUMS\"),\n",
       " Instrument(program=30, is_drum=False, name=\"GT RIFF 1\"),\n",
       " Instrument(program=28, is_drum=False, name=\"GT RIFF 1\"),\n",
       " Instrument(program=80, is_drum=False, name=\"SYN SOLO\"),\n",
       " Instrument(program=27, is_drum=False, name=\"GT CUT\"),\n",
       " Instrument(program=30, is_drum=False, name=\"GT SOLO\"),\n",
       " Instrument(program=25, is_drum=False, name=\"A.GT\"),\n",
       " Instrument(program=29, is_drum=False, name=\"GT RIFF 2\"),\n",
       " Instrument(program=28, is_drum=False, name=\"GT RIFF 2\")]"
      ]
     },
     "metadata": {},
     "output_type": "display_data"
    },
    {
     "name": "stdout",
     "output_type": "stream",
     "text": [
      "26 RM-P064.SMF_SYNC.MID\n"
     ]
    },
    {
     "ename": "ValueError",
     "evalue": "MIDI file has a largest tick of 4295199331, it is likely corrupt",
     "output_type": "error",
     "traceback": [
      "\u001b[0;31m---------------------------------------------------------------------------\u001b[0m",
      "\u001b[0;31mValueError\u001b[0m                                Traceback (most recent call last)",
      "\u001b[0;32m<ipython-input-4-08e4c98edd45>\u001b[0m in \u001b[0;36m<module>\u001b[0;34m()\u001b[0m\n\u001b[1;32m      3\u001b[0m     \u001b[0mprint\u001b[0m\u001b[0;34m(\u001b[0m\u001b[0mix\u001b[0m\u001b[0;34m,\u001b[0m \u001b[0mfilename\u001b[0m\u001b[0;34m)\u001b[0m\u001b[0;34m\u001b[0m\u001b[0m\n\u001b[1;32m      4\u001b[0m     \u001b[0;32mif\u001b[0m \u001b[0mfilename\u001b[0m\u001b[0;34m.\u001b[0m\u001b[0mendswith\u001b[0m\u001b[0;34m(\u001b[0m\u001b[0;34m\".MID\"\u001b[0m\u001b[0;34m)\u001b[0m\u001b[0;34m:\u001b[0m\u001b[0;34m\u001b[0m\u001b[0m\n\u001b[0;32m----> 5\u001b[0;31m         \u001b[0mmidi_data\u001b[0m \u001b[0;34m=\u001b[0m \u001b[0mpretty_midi\u001b[0m\u001b[0;34m.\u001b[0m\u001b[0mPrettyMIDI\u001b[0m\u001b[0;34m(\u001b[0m\u001b[0mpath\u001b[0m \u001b[0;34m+\u001b[0m \u001b[0mfilename\u001b[0m\u001b[0;34m)\u001b[0m\u001b[0;34m\u001b[0m\u001b[0m\n\u001b[0m\u001b[1;32m      6\u001b[0m         \u001b[0mdisplay\u001b[0m\u001b[0;34m(\u001b[0m\u001b[0;34m\"the instruments are\"\u001b[0m\u001b[0;34m,\u001b[0m\u001b[0mmidi_data\u001b[0m\u001b[0;34m.\u001b[0m\u001b[0minstruments\u001b[0m\u001b[0;34m)\u001b[0m\u001b[0;34m\u001b[0m\u001b[0m\n",
      "\u001b[0;32m//anaconda/envs/py3/lib/python3.6/site-packages/pretty_midi/pretty_midi.py\u001b[0m in \u001b[0;36m__init__\u001b[0;34m(self, midi_file, resolution, initial_tempo)\u001b[0m\n\u001b[1;32m     82\u001b[0m             \u001b[0;32mif\u001b[0m \u001b[0mmax_tick\u001b[0m \u001b[0;34m>\u001b[0m \u001b[0mMAX_TICK\u001b[0m\u001b[0;34m:\u001b[0m\u001b[0;34m\u001b[0m\u001b[0m\n\u001b[1;32m     83\u001b[0m                 raise ValueError(('MIDI file has a largest tick of {},'\n\u001b[0;32m---> 84\u001b[0;31m                                   ' it is likely corrupt'.format(max_tick)))\n\u001b[0m\u001b[1;32m     85\u001b[0m \u001b[0;34m\u001b[0m\u001b[0m\n\u001b[1;32m     86\u001b[0m             \u001b[0;31m# Create list that maps ticks to time in seconds\u001b[0m\u001b[0;34m\u001b[0m\u001b[0;34m\u001b[0m\u001b[0m\n",
      "\u001b[0;31mValueError\u001b[0m: MIDI file has a largest tick of 4295199331, it is likely corrupt"
     ]
    }
   ],
   "source": [
    "path = './melody-chord-MIDI-RWC100/AIST.RWC-MDB-P-2001.SMF_SYNC/'\n",
    "for ix, filename in enumerate(os.listdir(path)):\n",
    "    print(ix, filename)\n",
    "    if filename.endswith(\".MID\"): \n",
    "        midi_data = pretty_midi.PrettyMIDI(path + filename)\n",
    "        display(\"the instruments are\",midi_data.instruments)"
   ]
  },
  {
   "cell_type": "code",
   "execution_count": null,
   "metadata": {
    "scrolled": false
   },
   "outputs": [],
   "source": [
    "path = './melody-chord-MIDI-RWC100/AIST.RWC-MDB-P-2001.SMF_SYNC/'\n",
    "path_out = './Melody-MIDI/'\n",
    "if not os.path.exists(path_out):\n",
    "    os.makedirs(path_out)\n",
    "# in case it failed\n",
    "darklist = []\n",
    "for ix, filename in enumerate(os.listdir(path)):\n",
    "    if filename.endswith(\".MID\"): \n",
    "        print(os.path.join(path, filename))\n",
    "        try: # when you handle large amount of data have no idea what would happen\n",
    "             # not recommended for small dataset\n",
    "            midi_data = pretty_midi.PrettyMIDI(path + filename)\n",
    "            # select the melody according to metadata\n",
    "            for i in range(len(midi_data.instruments)):\n",
    "                name = midi_data.instruments[i].name\n",
    "                # delete spaces\n",
    "                name = name.replace(\" \", \"\")\n",
    "                # this is dirty, but it works!\n",
    "                if len(name) >= 3 and (name[0:3].lower() == 'mel' or name[0:3].lower()== 'voc'):\n",
    "                    print(midi_data.instruments[i])\n",
    "                    # deep copy to reserve other information\n",
    "                    new = cp.deepcopy(midi_data)\n",
    "                    # choose the melody track by metadata\n",
    "                    new.instruments = [new.instruments[i]]\n",
    "                    # check if it is melody by content based, really simple but it works\n",
    "                    notes = new.instruments[0].notes\n",
    "                    st = [n.start for n in notes]\n",
    "                    if len(st) != len(set(st)):\n",
    "                        darklist.append(filename)\n",
    "                        continue # or break if only one track can be labeled as melody\n",
    "                    new.write(path_out + filename[0:-4] + '-' + name.lower() +'.mid')\n",
    "        except Exception as e: \n",
    "            print(\"Error\\n\", e)\n",
    "            darklist.append(filename)\n",
    "    else:\n",
    "        continue"
   ]
  },
  {
   "cell_type": "code",
   "execution_count": null,
   "metadata": {},
   "outputs": [],
   "source": [
    "print(darklist)\n"
   ]
  },
  {
   "cell_type": "code",
   "execution_count": null,
   "metadata": {},
   "outputs": [],
   "source": []
  },
  {
   "cell_type": "code",
   "execution_count": null,
   "metadata": {},
   "outputs": [],
   "source": []
  }
 ],
 "metadata": {
  "anaconda-cloud": {},
  "kernelspec": {
   "display_name": "Python 3",
   "language": "python",
   "name": "python3"
  },
  "language_info": {
   "codemirror_mode": {
    "name": "ipython",
    "version": 3
   },
   "file_extension": ".py",
   "mimetype": "text/x-python",
   "name": "python",
   "nbconvert_exporter": "python",
   "pygments_lexer": "ipython3",
   "version": "3.6.2"
  }
 },
 "nbformat": 4,
 "nbformat_minor": 2
}
