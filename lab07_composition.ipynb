{
 "cells": [
  {
   "cell_type": "code",
   "execution_count": 1,
   "metadata": {},
   "outputs": [],
   "source": [
    "# To begin using librosa we need to import it, and other tools such as matplotlib and numpy\n",
    "from pylab import *\n",
    "import librosa             # The librosa library\n",
    "import librosa.display     # librosa's display module (for plotting features)\n",
    "import IPython.display     # IPython's display module (for in-line audio)\n",
    "import matplotlib.pyplot as plt # matplotlib plotting functions\n",
    "import matplotlib.style as ms   # plotting style\n",
    "import numpy as np              # numpy numerical functions\n",
    "import pretty_midi as midi\n",
    "\n",
    "ms.use('seaborn-muted')         # fancy plot designs"
   ]
  },
  {
   "cell_type": "code",
   "execution_count": 2,
   "metadata": {},
   "outputs": [],
   "source": [
    "dic = [\"G0\", \"B0\", \"C1\", \"E1\", \"D1\", \"F#1\",\"G2\", \"B2\"]\n",
    "pitch = [\n",
    "    [0],\n",
    "    [0, 4, 0],\n",
    "    [0, 2, 0, 4, 6, 4, 0, 2, 0],\n",
    "    [0, 1, 0, 2, 3, 2, 0, 1, 0, 4, 5, 4, 6, 7, 6, 4, 5, 4, 0, 1, 0, 2, 3, 2, 0, 1, 0],\n",
    "    [0, 1, 0, 2, 3, 2, 0, 1, 0, 4, 5, 4, 6, 7, 6, 4, 5, 4, 0, 1, 0, 2, 3, 2, 0, 1, 0] * 3\n",
    "]\n",
    "velocity = 80\n",
    "insts = []\n",
    "record = []\n",
    "pm = midi.PrettyMIDI(initial_tempo=220)\n",
    "# Create an Instrument instance for a cello instrument\n",
    "for inst_name in ['Church Organ', 'Cello', 'Flute','Trumpet', 'Kalimba']:\n",
    "    insts.append(midi.Instrument(program=midi.instrument_name_to_program(inst_name)))"
   ]
  },
  {
   "cell_type": "code",
   "execution_count": 3,
   "metadata": {},
   "outputs": [],
   "source": [
    "pattern = [0, 1, 0]\n",
    "le = len(dic)\n",
    "def generate(length, layer, bound):\n",
    "    if layer > bound:\n",
    "        return\n",
    "    temp = []\n",
    "    ends = []\n",
    "    starts = []\n",
    "    for i in range(3 ** layer):\n",
    "        starts.append(length * i)\n",
    "        ends.append(length * (i + 1))\n",
    "        flag = 1 if (i // (3**(layer - 1))) % 2 == 1 else 0\n",
    "        flag += 3\n",
    "        temp.append(midi.note_name_to_number(dic[pitch[layer - 1][i % (3 ** (layer - 1))]]) + flag * 12) \n",
    "    record.append(zip(temp, starts, ends))\n",
    "    generate(length / 3, layer + 1, bound)"
   ]
  },
  {
   "cell_type": "code",
   "execution_count": 4,
   "metadata": {
    "scrolled": false
   },
   "outputs": [],
   "source": [
    "generate(15, 1, 5)\n",
    "i = 0\n",
    "for rec in record:\n",
    "    for pitching, start, end in rec:\n",
    "        insts[i].notes.append(midi.Note(velocity if i != 4 else velocity + 20, pitching, start, end))\n",
    "    pm.instruments.append(insts[i])\n",
    "    i += 1\n",
    "pm.write('music.mid')"
   ]
  },
  {
   "cell_type": "code",
   "execution_count": 5,
   "metadata": {
    "scrolled": false
   },
   "outputs": [
    {
     "data": {
      "text/plain": [
       "[Instrument(program=25, is_drum=False, name=\"A.G 1\"),\n",
       " Instrument(program=33, is_drum=False, name=\"BASS\"),\n",
       " Instrument(program=0, is_drum=False, name=\"A.P\"),\n",
       " Instrument(program=73, is_drum=False, name=\"MELODY\"),\n",
       " Instrument(program=30, is_drum=False, name=\"E.G-1\"),\n",
       " Instrument(program=30, is_drum=False, name=\"E.G-2\"),\n",
       " Instrument(program=48, is_drum=False, name=\"ST-L\"),\n",
       " Instrument(program=48, is_drum=False, name=\"ST-R\"),\n",
       " Instrument(program=48, is_drum=False, name=\"ST-C\"),\n",
       " Instrument(program=0, is_drum=True, name=\"DRUMS\"),\n",
       " Instrument(program=25, is_drum=False, name=\"A.G 2\"),\n",
       " Instrument(program=29, is_drum=False, name=\"E.G-3\"),\n",
       " Instrument(program=29, is_drum=False, name=\"E.G-3(SUB)\"),\n",
       " Instrument(program=29, is_drum=False, name=\"E.G-4\")]"
      ]
     },
     "metadata": {},
     "output_type": "display_data"
    },
    {
     "data": {
      "image/png": "[encoded data removed]",
      "text/plain": [
       "<matplotlib.figure.Figure at 0x11bf72358>"
      ]
     },
     "metadata": {},
     "output_type": "display_data"
    }
   ],
   "source": [
    "midi_data = midi.PrettyMIDI('./RM-P009.SMF_SYNC.MID')\n",
    "display(midi_data.instruments)\n",
    "notes = midi_data.instruments[0].notes\n",
    "# display(notes)\n",
    "# pitch\n",
    "pitches = [n.pitch for n in notes]\n",
    "#plt.figure(0)\n",
    "plt.hist(pitches, bins = arange(min(pitches),max(pitches)))\n",
    "midi_data.instruments = [midi_data.instruments[0]]\n",
    "midi_data.write('melody.mid')"
   ]
  },
  {
   "cell_type": "code",
   "execution_count": 6,
   "metadata": {
    "scrolled": false
   },
   "outputs": [
    {
     "name": "stdout",
     "output_type": "stream",
     "text": [
      "beat locations:\n",
      " [   0.      1.45    2.31    3.17    4.02    4.88    5.74    6.6     7.45\n",
      "    8.31    9.17   10.02   10.88   11.74   12.6    13.45   14.31   15.17\n",
      "   16.02   16.88   17.74   18.6    19.45   20.31   21.17   22.02   22.88\n",
      "   23.74   24.6    25.45   26.31   27.17   28.02   28.88   29.74   30.59\n",
      "   31.45   32.31   33.17   34.02   34.88   35.74   36.59   37.45   38.31\n",
      "   39.17   40.02   40.88   41.74   42.59   43.45   44.31   45.17   46.02\n",
      "   46.88   47.74   48.59   49.45   50.31   51.16   52.02   52.88   53.74\n",
      "   54.59   55.45   56.31   57.16   58.02   58.88   59.74   60.59   61.45\n",
      "   62.31   63.16   64.02   64.88   65.74   66.59   67.45   68.31   69.16\n",
      "   70.02   70.88   71.73   72.59   73.45   74.31   75.16   76.02   76.88\n",
      "   77.73   78.59   79.45   80.31   81.16   82.02   82.88   83.74   84.59\n",
      "   85.45   86.3    87.16   88.02   88.88   89.73   90.59   91.45   92.31\n",
      "   93.16   94.02   94.88   95.73   96.59   97.45   98.3    99.16  100.02\n",
      "  100.88  101.73  102.59  103.45  104.3   105.16  106.02  106.87  107.73\n",
      "  108.59  109.45  110.3   111.16  112.02  112.88  113.73  114.59  115.45\n",
      "  116.3   117.16  118.02  118.87  119.73  120.59  121.44  122.3   123.16\n",
      "  124.02  124.87  125.73  126.59  127.44  128.3   129.16  130.02  130.87\n",
      "  131.73  132.59  133.44  134.3   135.16  136.02  136.87  137.73  138.59\n",
      "  139.44  140.3   141.17  142.02  142.87  143.73  144.59  145.44  146.3\n",
      "  147.16  148.01  148.87  149.73  150.59  151.44  152.3   153.16  154.01\n",
      "  154.87  155.73  156.59  157.44  158.3   159.16  160.01  160.87  161.73\n",
      "  162.59  163.44  164.3   165.16  166.01  166.87  167.73  168.59  169.44\n",
      "  170.3   171.16  172.01  172.87  173.73  174.59  175.44  176.3   177.16\n",
      "  178.01  178.87  179.73  180.58  181.44  182.3   183.16  184.01  184.87\n",
      "  185.73  186.58  187.44  188.3   189.16  190.01  190.87  191.73  192.58\n",
      "  193.44  194.3   195.15  196.01  196.87  197.73  198.58  199.44  200.3\n",
      "  201.15  202.01  202.87  203.73  204.59  205.45  206.31  207.17  208.02\n",
      "  208.87  209.72  210.58  211.44  212.3   213.15  214.01  214.87  215.73\n",
      "  216.58  217.44  218.29  219.15  220.01  220.87  221.72  222.58  223.44\n",
      "  224.3   225.15  226.01  226.87  227.72  228.58  229.44  230.29  231.15\n",
      "  232.01  232.87  233.72  234.58  235.44  236.29  237.15  238.01  238.87\n",
      "  239.72  240.58  241.44  242.29  243.15  244.01  244.86  245.72  246.58\n",
      "  247.44  248.29  249.15  250.01  250.87  251.72  252.58  253.44  254.29\n",
      "  255.15  256.01  256.86  257.72  258.58  259.44  260.29  261.15  262.01\n",
      "  262.86  263.72  264.58  265.44  266.29  267.15  268.01  268.86  269.72\n",
      "  270.58  271.43]\n",
      "one beat is:\n",
      " 0.86\n",
      "if 1/8 beat is a unit, note durations are:\n",
      " [8, 8, 8, 16, 8, 4, 4, 3, 5, 12, 8, 8, 8, 16, 8, 4, 4, 3, 5, 8, 8, 8, 16, 8, 4, 4, 3, 5, 12, 8, 8, 8, 16, 8, 4, 4, 3, 5, 6, 6, 6, 6, 16, 2, 2, 2, 2, 8, 8, 8, 8, 6, 6, 6, 6, 16, 2, 2, 2, 2, 8, 8, 8, 8, 6, 6, 6, 6, 16, 2, 2, 2, 2, 8, 8, 8, 8, 6, 6, 6, 6, 16, 2, 2, 2, 2, 8, 8, 8, 8, 6, 6, 6, 6, 16, 2, 2, 2, 2, 8, 8, 8, 8, 6, 6, 6, 6, 16, 2, 2, 2, 2, 8, 8, 8, 8, 6, 6, 6, 6, 16, 2, 2, 2, 2, 8, 8, 8, 8, 8, 8, 8, 16, 8, 8, 8, 8, 8, 32, 32, 32, 32, 32, 32, 32, 31, 31, 4, 4, 4, 4, 4, 4, 4, 4, 4, 4, 4, 4, 4, 4, 4, 4, 4, 4, 4, 4, 8, 8, 8, 8, 8, 7, 7, 7, 7, 7, 8, 8, 8, 8, 8, 4, 4, 4, 4, 4, 4, 4, 4, 4, 4, 4, 4, 4, 4, 4, 4, 4, 4, 4, 4, 3, 3, 2, 2, 1, 1, 1, 1, 3, 3, 2, 2, 1, 1, 1, 1, 4, 4, 4, 4, 4, 4, 4, 4, 3, 3, 2, 2, 1, 1, 1, 1, 4, 4, 4, 4, 4, 4, 4, 4, 4, 4, 4, 4, 3, 3, 2, 2, 1, 1, 1, 1, 3, 3, 3, 2, 1, 1, 1, 1, 4, 4, 4, 4, 4, 4, 4, 4, 3, 3, 2, 2, 1, 1, 1, 1, 4, 4, 4, 4, 4, 4, 4, 4, 4, 4, 4, 4, 3, 3, 2, 2, 1, 1, 1, 1, 3, 3, 3, 2, 1, 1, 1, 1, 4, 4, 4, 4, 4, 4, 4, 4, 3, 3, 2, 2, 1, 1, 1, 1, 4, 4, 4, 4, 4, 4, 4, 4, 4, 4, 4, 4, 3, 3, 3, 2, 1, 1, 1, 1, 3, 3, 3, 2, 1, 1, 1, 1, 4, 4, 4, 4, 4, 4, 4, 4, 3, 3, 3, 2, 1, 1, 1, 1, 4, 4, 4, 4, 4, 4, 4, 4, 4, 4, 4, 4, 3, 3, 2, 2, 1, 1, 1, 1, 3, 3, 3, 2, 1, 1, 1, 1, 4, 4, 4, 4, 4, 4, 4, 4, 3, 3, 2, 2, 1, 1, 1, 1, 4, 4, 4, 4, 4, 4, 4, 4, 4, 4, 4, 4, 3, 3, 2, 2, 1, 1, 1, 1, 3, 3, 2, 2, 1, 1, 1, 1, 4, 4, 4, 4, 4, 4, 4, 4, 3, 3, 2, 2, 1, 1, 1, 1, 4, 4, 4, 4, 4, 4, 4, 4, 4, 4, 4, 4, 3, 3, 2, 2, 1, 1, 1, 1, 3, 3, 2, 2, 1, 1, 1, 1, 4, 4, 4, 4, 4, 4, 4, 4, 3, 3, 2, 2, 1, 1, 1, 1, 4, 4, 4, 4, 4, 4, 4, 4, 4, 4, 4, 4, 3, 3, 2, 2, 1, 1, 1, 1, 3, 3, 2, 2, 1, 1, 1, 1, 4, 4, 4, 4, 4, 4, 4, 4, 3, 3, 2, 2, 1, 1, 1, 1, 8, 8, 8, 16, 8, 4, 4, 3, 5, 12, 8, 8, 8, 16, 8, 4, 4, 3, 5, 6, 6, 6, 6, 16, 2, 2, 2, 2, 8, 8, 8, 8, 6, 6, 6, 6, 16, 2, 2, 2, 2, 8, 8, 8, 8, 6, 6, 6, 6, 16, 2, 2, 2, 2, 8, 8, 8, 8, 6, 6, 6, 6, 16, 2, 2, 2, 2, 8, 8, 8, 8, 6, 6, 6, 6, 16, 2, 2, 2, 2, 8, 8, 8, 8, 6, 6, 6, 6, 16, 2, 2, 2, 2, 8, 8, 8, 8, 6, 6, 6, 6, 16, 2, 2, 2, 2, 8, 8, 8, 8, 8, 8, 8, 16, 8, 8, 8, 8, 8, 32, 32, 32, 32, 32, 32, 32, 32, 31, 4, 4, 4, 4, 4, 4, 4, 4, 4, 4, 4, 4, 4, 4, 4, 4, 4, 4, 4, 4, 7, 7, 7, 7, 7, 8, 8, 8, 8, 8, 8, 8, 8, 8, 8, 4, 4, 4, 4, 4, 4, 4, 4, 4, 4, 4, 4, 4, 4, 4, 4, 4, 4, 4, 4, 3, 3, 3, 2, 1, 1, 1, 1, 3, 3, 2, 2, 1, 1, 1, 1, 4, 4, 4, 4, 4, 4, 4, 4, 3, 3, 2, 2, 1, 1, 1, 1, 4, 4, 4, 4, 4, 4, 4, 4, 4, 4, 4, 4, 3, 3, 3, 2, 1, 1, 1, 1, 3, 3, 2, 2, 1, 1, 1, 1, 4, 4, 4, 4, 4, 4, 4, 4, 3, 3, 3, 2, 1, 1, 1, 1, 4, 4, 4, 4, 4, 4, 4, 4, 4, 4, 4, 4, 3, 3, 3, 2, 1, 1, 1, 1, 3, 3, 2, 2, 1, 1, 1, 1, 4, 4, 4, 4, 4, 4, 4, 4, 3, 3, 3, 2, 1, 1, 1, 1, 4, 4, 4, 4, 4, 4, 4, 4, 4, 4, 4, 4, 3, 3, 2, 2, 1, 1, 1, 1, 3, 3, 2, 2, 1, 1, 1, 1, 4, 4, 4, 4, 4, 4, 4, 4, 3, 3, 3, 2, 1, 1, 1, 1, 4, 4, 4, 4, 4, 4, 4, 4, 4, 4, 4, 4, 3, 3, 2, 2, 1, 1, 1, 1, 3, 3, 2, 2, 1, 1, 1, 1, 4, 4, 4, 4, 4, 4, 4, 4, 3, 3, 3, 2, 1, 1, 1, 1, 4, 4, 4, 4, 4, 4, 4, 4, 4, 4, 4, 4, 3, 3, 3, 2, 1, 1, 1, 1, 3, 3, 2, 2, 1, 1, 1, 1, 4, 4, 4, 4, 4, 4, 4, 4, 3, 3, 2, 2, 1, 1, 1, 1, 4, 4, 4, 4, 4, 4, 4, 4, 4, 4, 4, 4, 3, 3, 3, 2, 1, 1, 1, 1, 3, 3, 2, 2, 1, 1, 1, 1, 4, 4, 4, 4, 4, 4, 4, 4, 3, 3, 2, 2, 1, 1, 1, 1, 4, 4, 4, 4, 4, 4, 4, 4, 4, 4, 4, 4, 3, 3, 3, 2, 1, 1, 1, 1, 3, 3, 2, 2, 1, 1, 1, 1, 4, 4, 4, 4, 4, 4, 4, 4, 3, 3, 2, 2, 1, 1, 1, 1, 4, 4, 4, 4, 4, 4, 4, 4, 4, 4, 4, 4, 3, 3, 3, 2, 1, 1, 1, 1, 3, 3, 2, 2, 1, 1, 1, 1, 4, 4, 4, 4, 4, 4, 4, 4, 3, 3, 3, 2, 1, 1, 1, 1, 4, 4, 4, 4, 4, 4, 4, 4, 4, 4, 4, 4, 3, 3, 3, 2, 1, 1, 1, 1, 3, 3, 2, 2, 1, 1, 1, 1, 4, 4, 4, 4, 4, 4, 4, 4, 3, 3, 3, 2, 1, 1, 1, 1, 7, 7, 7, 7, 20, 20, 20, 20, 7, 7, 7, 7, 14, 14, 14, 14, 6, 6, 6, 6, 4, 4, 4, 4, 4, 4, 4, 4, 4, 4, 4, 4, 3, 3, 2, 2, 1, 1, 1, 1, 3, 3, 3, 2, 1, 1, 1, 1, 4, 4, 4, 4, 4, 4, 4, 4, 3, 3, 2, 2, 1, 1, 1, 1, 4, 4, 4, 4, 4, 4, 4, 4, 4, 4, 4, 4, 3, 3, 2, 2, 1, 1, 1, 1, 3, 3, 3, 2, 1, 1, 1, 1, 4, 4, 4, 4, 4, 4, 4, 4, 3, 3, 2, 2, 1, 1, 1, 1, 8, 8, 8, 8, 7, 7, 7, 7, 7, 7, 7, 7, 7, 7, 8, 8, 8, 8, 7, 7, 7, 7, 8, 8, 8, 8, 8, 8, 8, 4, 4, 4, 4, 4, 4, 4, 4, 4, 4, 4, 4, 4, 4, 4, 4, 4, 4, 4, 4, 4, 4, 4, 4, 4, 4, 4, 4, 4, 4, 4, 4, 4, 4, 4, 4, 4, 4, 4, 4, 4, 4, 4, 4, 4, 4, 4, 4, 4, 4, 4, 4, 4, 4, 4, 4, 4, 4, 4, 4, 4, 4, 4, 4, 4, 4, 4, 4, 4, 4, 4, 4, 3, 3, 2, 2, 1, 1, 1, 1, 3, 3, 3, 2, 1, 1, 1, 1, 4, 4, 4, 4, 4, 4, 4, 4, 3, 3, 2, 2, 1, 1, 1, 1, 4, 4, 4, 4, 4, 4, 4, 4, 4, 4, 4, 4, 3, 3, 2, 2, 1, 1, 1, 1, 3, 3, 2, 2, 1, 1, 1, 1, 4, 4, 4, 4, 4, 4, 4, 4, 3, 3, 2, 2, 1, 1, 1, 1, 4, 4, 4, 4, 4, 4, 4, 4, 4, 4, 4, 4, 3, 3, 2, 2, 1, 1, 1, 1, 3, 3, 2, 2, 1, 1, 1, 1, 4, 4, 4, 4, 4, 4, 4, 4, 3, 3, 2, 2, 1, 1, 1, 1, 4, 4, 4, 4, 4, 4, 4, 4, 4, 4, 4, 4, 3, 3, 2, 2, 1, 1, 1, 1, 3, 3, 2, 2, 1, 1, 1, 1, 4, 4, 4, 4, 4, 4, 4, 4, 3, 3, 2, 2, 1, 1, 1, 1, 4, 4, 4, 4, 4, 4, 4, 4, 4, 4, 4, 4, 3, 3, 2, 2, 1, 1, 1, 1, 3, 3, 3, 2, 1, 1, 1, 1, 4, 4, 4, 4, 4, 4, 4, 4, 3, 3, 2, 2, 1, 1, 1, 1, 4, 4, 4, 4, 4, 4, 4, 4, 4, 4, 4, 4, 3, 3, 3, 2, 1, 1, 1, 1, 3, 3, 3, 2, 1, 1, 1, 1, 4, 4, 4, 4, 4, 4, 4, 4, 3, 3, 3, 2, 1, 1, 1, 1, 4, 4, 4, 4, 4, 4, 4, 4, 4, 4, 4, 4, 3, 3, 2, 2, 1, 1, 1, 1, 3, 3, 3, 2, 1, 1, 1, 1, 4, 4, 4, 4, 4, 4, 4, 4, 3, 3, 2, 2, 1, 1, 1, 1, 4, 4, 4, 4, 4, 4, 4, 4, 4, 4, 4, 4, 3, 3, 2, 2, 1, 1, 1, 1, 3, 3, 2, 2, 1, 1, 1, 1, 4, 4, 4, 4, 4, 4, 4, 4, 3, 3, 2, 2, 1, 1, 1, 1, 4, 4, 4, 4, 4, 4, 4, 4, 4, 4, 4, 4, 3, 3, 2, 2, 1, 1, 1, 1, 3, 3, 2, 2, 1, 1, 1, 1, 4, 4, 4, 4, 4, 4, 4, 4, 3, 3, 2, 2, 1, 1, 1, 1, 4, 4, 4, 4, 4, 4, 4, 4, 4, 4, 4, 4, 3, 3, 2, 2, 1, 1, 1, 1, 3, 3, 3, 2, 1, 1, 1, 1, 4, 4, 4, 4, 4, 4, 4, 4, 3, 3, 2, 2, 1, 1, 1, 1, 4, 4, 4, 4, 4, 4, 4, 4, 4, 4, 4, 4, 3, 3, 2, 2, 1, 1, 1, 1, 3, 3, 3, 2, 1, 1, 1, 1, 4, 4, 4, 4, 4, 4, 4, 4, 3, 3, 2, 2, 1, 1, 1, 1, 4, 4, 4, 4, 4, 4, 4, 4, 4, 4, 4, 4, 3, 3, 2, 2, 1, 1, 1, 1, 3, 3, 2, 2, 1, 1, 1, 1, 4, 4, 4, 4, 4, 4, 4, 4, 3, 3, 2, 2, 1, 1, 1, 1, 4, 4, 4, 4, 4, 4, 4, 4, 4, 4, 4, 4, 3, 3, 3, 2, 1, 1, 1, 1, 3, 3, 2, 2, 1, 1, 1, 1, 4, 4, 4, 4, 4, 4, 4, 4, 3, 3, 2, 2, 1, 1, 1, 1, 4, 4, 4, 4, 4, 4, 4, 4, 4, 4, 4, 4, 3, 3, 3, 2, 1, 1, 1, 1, 3, 3, 2, 2, 1, 1, 1, 1, 4, 4, 4, 4, 4, 4, 4, 4, 3, 3, 2, 2, 1, 1, 1, 1, 4, 4, 4, 4, 4, 4, 4, 4, 4, 4, 4, 4, 3, 3, 3, 2, 1, 1, 1, 1, 3, 3, 2, 2, 1, 1, 1, 1, 4, 4, 4, 4, 4, 4, 4, 4, 3, 3, 3, 2, 1, 1, 1, 1, 4, 4, 4, 4, 4, 4, 4, 4, 4, 4, 4, 4, 3, 3, 2, 2, 1, 1, 1, 1, 3, 3, 2, 2, 1, 1, 1, 1, 4, 4, 4, 4, 4, 4, 4, 4, 3, 3, 3, 2, 1, 1, 1, 1, 8, 8, 8, 16, 8, 4, 4, 3, 5, 12, 8, 8, 8, 16, 8, 4, 4, 3, 5, 8, 8, 8, 16, 8, 4, 4, 3, 5, 12, 8, 8, 8, 16, 8, 4, 4, 3, 1]\n"
     ]
    },
    {
     "data": {
      "text/plain": [
       "(array([ 433.,  237.,  261.,  856.,    9.,   60.,   32.,  147.,    0.,\n",
       "           0.,    0.,    5.,    0.,    4.]),\n",
       " array([ 1,  2,  3,  4,  5,  6,  7,  8,  9, 10, 11, 12, 13, 14, 15]),\n",
       " <a list of 14 Patch objects>)"
      ]
     },
     "execution_count": 6,
     "metadata": {},
     "output_type": "execute_result"
    },
    {
     "data": {
      "image/png": "[encoded data removed]",
      "text/plain": [
       "<matplotlib.figure.Figure at 0x11c06e2e8>"
      ]
     },
     "metadata": {},
     "output_type": "display_data"
    }
   ],
   "source": [
    "# duration\n",
    "beats = midi_data.get_beats()\n",
    "print(\"beat locations:\\n\",beats)\n",
    "beat_durs = list(np.diff(beats))\n",
    "#print(beat_durs)\n",
    "beat_dur = max(set(beat_durs), key = beat_durs.count) \n",
    "print(\"one beat is:\\n\", beat_dur)\n",
    "dur_unit = beat_dur/8\n",
    "durs = [int(round((n.end - n.start)/dur_unit)) for n in notes]\n",
    "print(\"if 1/8 beat is a unit, note durations are:\\n\", durs)\n",
    "plt.hist(durs,bins = arange(min(durs),16))"
   ]
  },
  {
   "cell_type": "code",
   "execution_count": 7,
   "metadata": {},
   "outputs": [
    {
     "name": "stdout",
     "output_type": "stream",
     "text": [
      "[40, 42, 43, 45, 47, 48, 50, 51, 52, 53, 54, 55, 56, 57, 58, 59, 60, 61, 62, 63, 64, 65, 66, 67]\n",
      "[1, 2, 3, 4, 5, 6, 7, 8, 12, 14, 16, 20, 31]\n",
      "(24, 24)\n",
      "(13, 13)\n"
     ]
    },
    {
     "data": {
      "text/plain": [
       "list"
      ]
     },
     "execution_count": 7,
     "metadata": {},
     "output_type": "execute_result"
    }
   ],
   "source": [
    "pitch_id = list(set(pitches))\n",
    "pitch_id.sort()\n",
    "print(pitch_id)\n",
    "dur_id = list(set(durs))\n",
    "dur_id.sort()\n",
    "dur_id = dur_id[0:len(dur_id)-1]\n",
    "print(dur_id)\n",
    "Trans_pitch = np.zeros((len(pitch_id),len(pitch_id)))\n",
    "Trans_dur = np.zeros((len(dur_id),len(dur_id)))\n",
    "print(Trans_pitch.shape)\n",
    "print(Trans_dur.shape)\n",
    "type(pitch_id)"
   ]
  },
  {
   "cell_type": "code",
   "execution_count": 8,
   "metadata": {
    "scrolled": false
   },
   "outputs": [
    {
     "name": "stdout",
     "output_type": "stream",
     "text": [
      "before normalization\n",
      "Trans pitch freq:\n",
      " [[   0.    0.    0.    0.    0.    0.    0.    0.    0.    0.    0.   14.\n",
      "     0.    0.    0.    0.    0.    0.    0.    0.   12.    0.    0.    0.]\n",
      " [   0.    0.    0.    0.    5.    0.    0.    0.    4.    0.    0.    0.\n",
      "     0.    0.    0.    0.    0.    0.    0.    0.    0.    0.    0.    0.]\n",
      " [   0.   10.    0.    0.    0.    0.    0.    0.    0.    0.    0.    0.\n",
      "     0.    0.    0.    0.    0.    0.    0.    0.    0.    0.    0.    0.]\n",
      " [   0.    0.   10.    0.    0.    0.    0.    0.   10.    0.    0.    0.\n",
      "     0.    0.    0.    0.    0.    0.    0.    0.    0.    0.    0.    0.]\n",
      " [   0.    0.    0.    0.    0.    0.    0.    0.    5.    0.    2.    0.\n",
      "     0.    0.    0.    0.    0.    0.    0.    0.    0.    0.    0.    0.]\n",
      " [   0.    0.    0.    0.    0.   11.    4.    0.    4.    4.    0.   32.\n",
      "     0.    0.    0.    0.    0.    0.    0.    0.    0.    0.    0.    0.]\n",
      " [   0.    0.    0.   10.    0.    0.   29.    0.    8.    0.    0.    6.\n",
      "     0.   99.    0.    0.    0.    0.    0.    0.    0.    0.    0.    0.]\n",
      " [   0.    0.    0.    0.    0.    0.    1.    3.    2.    0.    0.    0.\n",
      "     0.    4.    7.    0.    0.    0.    0.    0.    0.    0.    0.    0.]\n",
      " [   0.    0.    0.    0.    0.    9.    0.    0.   27.    0.    0.   90.\n",
      "     0.   17.    0.   26.    0.    0.    0.    0.    0.    0.    0.    0.]\n",
      " [   0.    0.    0.    0.    0.    0.    0.    0.    0.    4.    0.    0.\n",
      "     8.    1.    0.    0.    0.    0.    0.    0.    0.    0.    0.    0.]\n",
      " [   0.    0.    0.    0.    0.    0.    0.    0.    1.    0.    0.    0.\n",
      "     0.    0.    0.    4.    0.    0.    0.    0.    0.    0.    0.    0.]\n",
      " [  12.    0.    0.    0.    0.   20.    8.    0.   46.    0.    0.   26.\n",
      "     0.    0.    4.  134.   35.    0.    0.    0.   16.    0.    0.    0.]\n",
      " [   0.    0.    0.    0.    0.    0.    0.    0.    0.    4.    0.    0.\n",
      "     0.    0.    0.    0.    8.    0.    0.    0.    0.    0.    0.    0.]\n",
      " [   0.    0.    0.    0.    0.    0.   43.    2.    4.    0.    0.    0.\n",
      "     0.    0.    0.    0.   10.    4.  103.    4.    0.    0.    0.    0.]\n",
      " [   0.    0.    0.    0.    0.    0.    0.    4.    0.    0.    0.    2.\n",
      "     0.    0.    0.    0.    0.    0.    4.   10.    0.    0.    0.    0.]\n",
      " [   0.    0.    0.    0.    0.    0.    0.    0.    0.    0.    1.   76.\n",
      "     0.    0.    0.    0.    0.    0.   64.    2.   86.    0.    0.    0.]\n",
      " [   0.    0.    0.    0.    0.    0.    0.    0.    0.    0.    0.   20.\n",
      "     4.    4.    0.    0.    0.    0.    0.    2.   42.    9.    0.    0.]\n",
      " [   0.    0.    0.    0.    0.    0.    0.    0.    8.    0.    0.    0.\n",
      "     0.    0.    0.    0.    0.    0.    0.    0.    4.    0.    0.    0.]\n",
      " [   0.    0.    0.    0.    0.    0.    0.    0.    8.    0.    0.    0.\n",
      "     0.   43.    2.   32.    0.    0.    0.    0.    4.    5.   96.   66.]\n",
      " [   0.    0.    0.    0.    0.    0.    0.    0.    0.    0.    0.    0.\n",
      "     0.    2.    4.    1.    0.    0.    0.    0.    0.    0.    6.   12.]\n",
      " [  14.    0.    0.    8.    2.   13.   12.    0.   41.    0.    0.    2.\n",
      "     0.    0.    0.   32.   24.    8.    8.    0.   56.    0.    0.    0.]\n",
      " [   0.    0.    0.    0.    0.    0.    5.    1.    0.    0.    0.    0.\n",
      "     0.    0.    2.    0.    4.    0.    2.    0.    0.    6.    0.    0.]\n",
      " [   0.    0.    0.    2.    0.    2.   45.    4.    0.    0.    2.    3.\n",
      "     0.    0.    0.    0.    0.    0.   41.    3.    0.    0.   44.    0.]\n",
      " [   0.    0.    0.    0.    0.    0.    5.    3.    0.    1.    0.   30.\n",
      "     0.    0.    1.    0.    0.    0.   34.    4.    0.    0.    0.   38.]]\n",
      "Trans dur freq:\n",
      " [[ 324.    0.   36.   68.    0.    0.    1.    3.    0.    0.    0.    0.\n",
      "     0.]\n",
      " [ 108.  115.    0.    0.    0.    0.    0.   14.    0.    0.    0.    0.\n",
      "     0.]\n",
      " [   1.  108.  143.    0.    9.    0.    0.    0.    0.    0.    0.    0.\n",
      "     0.]\n",
      " [   0.    0.   82.  772.    0.    0.    1.    1.    0.    0.    0.    0.\n",
      "     0.]\n",
      " [   0.    0.    0.    0.    0.    2.    0.    2.    5.    0.    0.    0.\n",
      "     0.]\n",
      " [   0.    0.    0.    1.    0.   45.    0.    0.    0.    0.   14.    0.\n",
      "     0.]\n",
      " [   0.    0.    0.    0.    0.    0.   26.    4.    0.    1.    0.    1.\n",
      "     0.]\n",
      " [   0.    0.    0.   13.    0.   12.    3.  105.    0.    0.   12.    0.\n",
      "     0.]\n",
      " [   0.    0.    0.    0.    0.    0.    0.    5.    0.    0.    0.    0.\n",
      "     0.]\n",
      " [   0.    0.    0.    0.    0.    1.    0.    0.    0.    3.    0.    0.\n",
      "     0.]\n",
      " [   0.   14.    0.    0.    0.    0.    0.   12.    0.    0.    0.    0.\n",
      "     0.]\n",
      " [   0.    0.    0.    0.    0.    0.    1.    0.    0.    0.    0.    3.\n",
      "     0.]\n",
      " [   0.    0.    0.    2.    0.    0.    0.    0.    0.    0.    0.    0.\n",
      "     1.]]\n",
      "after normalization\n",
      "Trans pitch prob:\n",
      " [[ 0.    0.    0.    0.    0.    0.    0.    0.    0.    0.    0.    0.54\n",
      "   0.    0.    0.    0.    0.    0.    0.    0.    0.46  0.    0.    0.  ]\n",
      " [ 0.    0.    0.    0.    0.56  0.    0.    0.    0.44  0.    0.    0.    0.\n",
      "   0.    0.    0.    0.    0.    0.    0.    0.    0.    0.    0.  ]\n",
      " [ 0.    1.    0.    0.    0.    0.    0.    0.    0.    0.    0.    0.    0.\n",
      "   0.    0.    0.    0.    0.    0.    0.    0.    0.    0.    0.  ]\n",
      " [ 0.    0.    0.5   0.    0.    0.    0.    0.    0.5   0.    0.    0.    0.\n",
      "   0.    0.    0.    0.    0.    0.    0.    0.    0.    0.    0.  ]\n",
      " [ 0.    0.    0.    0.    0.    0.    0.    0.    0.71  0.    0.29  0.    0.\n",
      "   0.    0.    0.    0.    0.    0.    0.    0.    0.    0.    0.  ]\n",
      " [ 0.    0.    0.    0.    0.    0.2   0.07  0.    0.07  0.07  0.    0.58\n",
      "   0.    0.    0.    0.    0.    0.    0.    0.    0.    0.    0.    0.  ]\n",
      " [ 0.    0.    0.    0.07  0.    0.    0.19  0.    0.05  0.    0.    0.04\n",
      "   0.    0.65  0.    0.    0.    0.    0.    0.    0.    0.    0.    0.  ]\n",
      " [ 0.    0.    0.    0.    0.    0.    0.06  0.18  0.12  0.    0.    0.    0.\n",
      "   0.24  0.41  0.    0.    0.    0.    0.    0.    0.    0.    0.  ]\n",
      " [ 0.    0.    0.    0.    0.    0.05  0.    0.    0.16  0.    0.    0.53\n",
      "   0.    0.1   0.    0.15  0.    0.    0.    0.    0.    0.    0.    0.  ]\n",
      " [ 0.    0.    0.    0.    0.    0.    0.    0.    0.    0.31  0.    0.\n",
      "   0.62  0.08  0.    0.    0.    0.    0.    0.    0.    0.    0.    0.  ]\n",
      " [ 0.    0.    0.    0.    0.    0.    0.    0.    0.2   0.    0.    0.    0.\n",
      "   0.    0.    0.8   0.    0.    0.    0.    0.    0.    0.    0.  ]\n",
      " [ 0.04  0.    0.    0.    0.    0.07  0.03  0.    0.15  0.    0.    0.09\n",
      "   0.    0.    0.01  0.45  0.12  0.    0.    0.    0.05  0.    0.    0.  ]\n",
      " [ 0.    0.    0.    0.    0.    0.    0.    0.    0.    0.33  0.    0.    0.\n",
      "   0.    0.    0.    0.67  0.    0.    0.    0.    0.    0.    0.  ]\n",
      " [ 0.    0.    0.    0.    0.    0.    0.25  0.01  0.02  0.    0.    0.    0.\n",
      "   0.    0.    0.    0.06  0.02  0.61  0.02  0.    0.    0.    0.  ]\n",
      " [ 0.    0.    0.    0.    0.    0.    0.    0.2   0.    0.    0.    0.1\n",
      "   0.    0.    0.    0.    0.    0.    0.2   0.5   0.    0.    0.    0.  ]\n",
      " [ 0.    0.    0.    0.    0.    0.    0.    0.    0.    0.    0.    0.33\n",
      "   0.    0.    0.    0.    0.    0.    0.28  0.01  0.38  0.    0.    0.  ]\n",
      " [ 0.    0.    0.    0.    0.    0.    0.    0.    0.    0.    0.    0.25\n",
      "   0.05  0.05  0.    0.    0.    0.    0.    0.02  0.52  0.11  0.    0.  ]\n",
      " [ 0.    0.    0.    0.    0.    0.    0.    0.    0.67  0.    0.    0.    0.\n",
      "   0.    0.    0.    0.    0.    0.    0.    0.33  0.    0.    0.  ]\n",
      " [ 0.    0.    0.    0.    0.    0.    0.    0.    0.03  0.    0.    0.    0.\n",
      "   0.17  0.01  0.12  0.    0.    0.    0.    0.02  0.02  0.38  0.26]\n",
      " [ 0.    0.    0.    0.    0.    0.    0.    0.    0.    0.    0.    0.    0.\n",
      "   0.08  0.16  0.04  0.    0.    0.    0.    0.    0.    0.24  0.48]\n",
      " [ 0.06  0.    0.    0.04  0.01  0.06  0.05  0.    0.19  0.    0.    0.01\n",
      "   0.    0.    0.    0.15  0.11  0.04  0.04  0.    0.25  0.    0.    0.  ]\n",
      " [ 0.    0.    0.    0.    0.    0.    0.25  0.05  0.    0.    0.    0.    0.\n",
      "   0.    0.1   0.    0.2   0.    0.1   0.    0.    0.3   0.    0.  ]\n",
      " [ 0.    0.    0.    0.01  0.    0.01  0.31  0.03  0.    0.    0.01  0.02\n",
      "   0.    0.    0.    0.    0.    0.    0.28  0.02  0.    0.    0.3   0.  ]\n",
      " [ 0.    0.    0.    0.    0.    0.    0.04  0.03  0.    0.01  0.    0.26\n",
      "   0.    0.    0.01  0.    0.    0.    0.29  0.03  0.    0.    0.    0.33]]\n",
      "Trans dur prob:\n",
      " [[ 0.75  0.    0.08  0.16  0.    0.    0.    0.01  0.    0.    0.    0.    0.  ]\n",
      " [ 0.46  0.49  0.    0.    0.    0.    0.    0.06  0.    0.    0.    0.    0.  ]\n",
      " [ 0.    0.41  0.55  0.    0.03  0.    0.    0.    0.    0.    0.    0.    0.  ]\n",
      " [ 0.    0.    0.1   0.9   0.    0.    0.    0.    0.    0.    0.    0.    0.  ]\n",
      " [ 0.    0.    0.    0.    0.    0.22  0.    0.22  0.56  0.    0.    0.    0.  ]\n",
      " [ 0.    0.    0.    0.02  0.    0.75  0.    0.    0.    0.    0.23  0.    0.  ]\n",
      " [ 0.    0.    0.    0.    0.    0.    0.81  0.12  0.    0.03  0.    0.03\n",
      "   0.  ]\n",
      " [ 0.    0.    0.    0.09  0.    0.08  0.02  0.72  0.    0.    0.08  0.    0.  ]\n",
      " [ 0.    0.    0.    0.    0.    0.    0.    1.    0.    0.    0.    0.    0.  ]\n",
      " [ 0.    0.    0.    0.    0.    0.25  0.    0.    0.    0.75  0.    0.    0.  ]\n",
      " [ 0.    0.54  0.    0.    0.    0.    0.    0.46  0.    0.    0.    0.    0.  ]\n",
      " [ 0.    0.    0.    0.    0.    0.    0.25  0.    0.    0.    0.    0.75\n",
      "   0.  ]\n",
      " [ 0.    0.    0.    0.67  0.    0.    0.    0.    0.    0.    0.    0.\n",
      "   0.33]]\n"
     ]
    },
    {
     "data": {
      "text/plain": [
       "<matplotlib.image.AxesImage at 0x11bbce780>"
      ]
     },
     "execution_count": 8,
     "metadata": {},
     "output_type": "execute_result"
    },
    {
     "data": {
      "image/png": "[encoded data removed]",
      "text/plain": [
       "<matplotlib.figure.Figure at 0x11c35b630>"
      ]
     },
     "metadata": {},
     "output_type": "display_data"
    },
    {
     "data": {
      "image/png": "[encoded data removed]",
      "text/plain": [
       "<matplotlib.figure.Figure at 0x11bf2c320>"
      ]
     },
     "metadata": {},
     "output_type": "display_data"
    }
   ],
   "source": [
    "# loop through the piece\n",
    "for i in range(len(notes)-1):\n",
    "    if pitches[i] in pitch_id and pitches[i+1] in pitch_id:\n",
    "        p1 = pitch_id.index(pitches[i])\n",
    "        p2 = pitch_id.index(pitches[i+1])\n",
    "        Trans_pitch[p1,p2] = Trans_pitch[p1,p2] + 1\n",
    "    if durs[i] in dur_id and durs[i+1] in dur_id:\n",
    "        d1 = dur_id.index(durs[i])\n",
    "        d2 = dur_id.index(durs[i+1])\n",
    "        Trans_dur[d1,d2] = Trans_dur[d1,d2] + 1\n",
    "print(\"before normalization\")\n",
    "print(\"Trans pitch freq:\\n\",Trans_pitch)\n",
    "print(\"Trans dur freq:\\n\",Trans_dur)\n",
    "# normalization\n",
    "row_sums = Trans_pitch.sum(axis=1)\n",
    "Trans_pitch = Trans_pitch / row_sums[:, np.newaxis]\n",
    "row_sums = Trans_dur.sum(axis=1)\n",
    "Trans_dur = Trans_dur / row_sums[:, np.newaxis]\n",
    "# visualize\n",
    "print(\"after normalization\")\n",
    "print(\"Trans pitch prob:\\n\",np.around(Trans_pitch,2))\n",
    "print(\"Trans dur prob:\\n\",np.around(Trans_dur,2))\n",
    "plt.imshow(Trans_pitch)\n",
    "figure()\n",
    "plt.imshow(Trans_dur)"
   ]
  },
  {
   "cell_type": "code",
   "execution_count": 9,
   "metadata": {},
   "outputs": [],
   "source": [
    "def matrix2notes(m):\n",
    "    # first sort the matrix to make sure starting time is in order\n",
    "    m = array(m)\n",
    "    m = m[argsort(m[:,0]),:]\n",
    "    # transfer the databack to note list\n",
    "    notes=[midi.Note(start=m[i,0], end=m[i,1], pitch=int(m[i,2]), velocity= int(m[i,3]) ) \n",
    "                            for i in range(size(m,0))]\n",
    "    return notes"
   ]
  },
  {
   "cell_type": "code",
   "execution_count": 10,
   "metadata": {},
   "outputs": [],
   "source": [
    "N = 100; p_i = 0; d_i = 0; # p and d are indix of pitch_id and dur_id\n",
    "# empty note matrix\n",
    "notes2 = np.zeros((N,4))\n",
    "# first row \n",
    "notes2[0,[0,1,2]] = [0, dur_id[d_i], pitch_id[p_i]]\n",
    "# roll the dice to generate the rest of the piece\n",
    "for i in range(1,N):\n",
    "    p_i = np.random.choice(np.arange(len(pitch_id)), p = Trans_pitch[p_i,:])\n",
    "    d_i = np.random.choice(np.arange(len(dur_id)), p = Trans_dur[d_i,:])\n",
    "    offset = notes2[i-1,1]\n",
    "    notes2[i,[0,1,2]] = [offset, offset + dur_id[d_i], pitch_id[p_i]]\n",
    "# assign velocity and tempo\n",
    "notes2[:,3] = 100\n",
    "notes2[:,[0,1]] = notes2[:,[0,1]] * dur_unit\n",
    "#print(notes2)\n",
    "# transfer matrix back to notes\n",
    "notes2 = matrix2notes(notes2);\n",
    "# substitute the original notes\n",
    "midi_data.instruments[0].notes = notes2 \n",
    "# save and display\n",
    "wave = midi_data.instruments[0].synthesize(fs = 44100)\n",
    "IPython.display.Audio(data=wave, rate=44100) \n",
    "midi_data.write('./remix.mid')\n"
   ]
  },
  {
   "cell_type": "code",
   "execution_count": null,
   "metadata": {},
   "outputs": [],
   "source": []
  }
 ],
 "metadata": {
  "kernelspec": {
   "display_name": "Python 3",
   "language": "python",
   "name": "python3"
  },
  "language_info": {
   "codemirror_mode": {
    "name": "ipython",
    "version": 3
   },
   "file_extension": ".py",
   "mimetype": "text/x-python",
   "name": "python",
   "nbconvert_exporter": "python",
   "pygments_lexer": "ipython3",
   "version": "3.6.2"
  }
 },
 "nbformat": 4,
 "nbformat_minor": 2
}
